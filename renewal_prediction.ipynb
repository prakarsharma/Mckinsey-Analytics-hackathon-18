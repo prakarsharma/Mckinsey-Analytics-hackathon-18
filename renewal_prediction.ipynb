{
 "cells": [
  {
   "cell_type": "code",
   "execution_count": 1,
   "metadata": {
    "collapsed": true
   },
   "outputs": [],
   "source": [
    "import pandas\n",
    "import numpy"
   ]
  },
  {
   "cell_type": "code",
   "execution_count": 2,
   "metadata": {
    "collapsed": true
   },
   "outputs": [],
   "source": [
    "train=pandas.read_csv('train_ZoGVYWq.csv')"
   ]
  },
  {
   "cell_type": "code",
   "execution_count": 3,
   "metadata": {},
   "outputs": [
    {
     "data": {
      "text/html": [
       "<div>\n",
       "<table border=\"1\" class=\"dataframe\">\n",
       "  <thead>\n",
       "    <tr style=\"text-align: right;\">\n",
       "      <th></th>\n",
       "      <th>id</th>\n",
       "      <th>perc_premium_paid_by_cash_credit</th>\n",
       "      <th>age_in_days</th>\n",
       "      <th>Income</th>\n",
       "      <th>Count_3-6_months_late</th>\n",
       "      <th>Count_6-12_months_late</th>\n",
       "      <th>Count_more_than_12_months_late</th>\n",
       "      <th>application_underwriting_score</th>\n",
       "      <th>no_of_premiums_paid</th>\n",
       "      <th>sourcing_channel</th>\n",
       "      <th>residence_area_type</th>\n",
       "      <th>premium</th>\n",
       "      <th>renewal</th>\n",
       "    </tr>\n",
       "  </thead>\n",
       "  <tbody>\n",
       "    <tr>\n",
       "      <th>0</th>\n",
       "      <td>110936</td>\n",
       "      <td>0.429</td>\n",
       "      <td>12058</td>\n",
       "      <td>355060</td>\n",
       "      <td>0</td>\n",
       "      <td>0</td>\n",
       "      <td>0</td>\n",
       "      <td>99.02</td>\n",
       "      <td>13</td>\n",
       "      <td>C</td>\n",
       "      <td>Urban</td>\n",
       "      <td>3300</td>\n",
       "      <td>1</td>\n",
       "    </tr>\n",
       "    <tr>\n",
       "      <th>1</th>\n",
       "      <td>41492</td>\n",
       "      <td>0.010</td>\n",
       "      <td>21546</td>\n",
       "      <td>315150</td>\n",
       "      <td>0</td>\n",
       "      <td>0</td>\n",
       "      <td>0</td>\n",
       "      <td>99.89</td>\n",
       "      <td>21</td>\n",
       "      <td>A</td>\n",
       "      <td>Urban</td>\n",
       "      <td>18000</td>\n",
       "      <td>1</td>\n",
       "    </tr>\n",
       "    <tr>\n",
       "      <th>2</th>\n",
       "      <td>31300</td>\n",
       "      <td>0.917</td>\n",
       "      <td>17531</td>\n",
       "      <td>84140</td>\n",
       "      <td>2</td>\n",
       "      <td>3</td>\n",
       "      <td>1</td>\n",
       "      <td>98.69</td>\n",
       "      <td>7</td>\n",
       "      <td>C</td>\n",
       "      <td>Rural</td>\n",
       "      <td>3300</td>\n",
       "      <td>0</td>\n",
       "    </tr>\n",
       "    <tr>\n",
       "      <th>3</th>\n",
       "      <td>19415</td>\n",
       "      <td>0.049</td>\n",
       "      <td>15341</td>\n",
       "      <td>250510</td>\n",
       "      <td>0</td>\n",
       "      <td>0</td>\n",
       "      <td>0</td>\n",
       "      <td>99.57</td>\n",
       "      <td>9</td>\n",
       "      <td>A</td>\n",
       "      <td>Urban</td>\n",
       "      <td>9600</td>\n",
       "      <td>1</td>\n",
       "    </tr>\n",
       "    <tr>\n",
       "      <th>4</th>\n",
       "      <td>99379</td>\n",
       "      <td>0.052</td>\n",
       "      <td>31400</td>\n",
       "      <td>198680</td>\n",
       "      <td>0</td>\n",
       "      <td>0</td>\n",
       "      <td>0</td>\n",
       "      <td>99.87</td>\n",
       "      <td>12</td>\n",
       "      <td>B</td>\n",
       "      <td>Urban</td>\n",
       "      <td>9600</td>\n",
       "      <td>1</td>\n",
       "    </tr>\n",
       "  </tbody>\n",
       "</table>\n",
       "</div>"
      ],
      "text/plain": [
       "       id  perc_premium_paid_by_cash_credit  age_in_days  Income  \\\n",
       "0  110936                             0.429        12058  355060   \n",
       "1   41492                             0.010        21546  315150   \n",
       "2   31300                             0.917        17531   84140   \n",
       "3   19415                             0.049        15341  250510   \n",
       "4   99379                             0.052        31400  198680   \n",
       "\n",
       "   Count_3-6_months_late  Count_6-12_months_late  \\\n",
       "0                      0                       0   \n",
       "1                      0                       0   \n",
       "2                      2                       3   \n",
       "3                      0                       0   \n",
       "4                      0                       0   \n",
       "\n",
       "   Count_more_than_12_months_late  application_underwriting_score  \\\n",
       "0                               0                           99.02   \n",
       "1                               0                           99.89   \n",
       "2                               1                           98.69   \n",
       "3                               0                           99.57   \n",
       "4                               0                           99.87   \n",
       "\n",
       "   no_of_premiums_paid sourcing_channel residence_area_type  premium  renewal  \n",
       "0                   13                C               Urban     3300        1  \n",
       "1                   21                A               Urban    18000        1  \n",
       "2                    7                C               Rural     3300        0  \n",
       "3                    9                A               Urban     9600        1  \n",
       "4                   12                B               Urban     9600        1  "
      ]
     },
     "execution_count": 3,
     "metadata": {},
     "output_type": "execute_result"
    }
   ],
   "source": [
    "train.head()"
   ]
  },
  {
   "cell_type": "code",
   "execution_count": 4,
   "metadata": {},
   "outputs": [
    {
     "data": {
      "text/plain": [
       "id                                    int64\n",
       "perc_premium_paid_by_cash_credit    float64\n",
       "age_in_days                           int64\n",
       "Income                                int64\n",
       "Count_3-6_months_late               float64\n",
       "Count_6-12_months_late              float64\n",
       "Count_more_than_12_months_late      float64\n",
       "application_underwriting_score      float64\n",
       "no_of_premiums_paid                   int64\n",
       "sourcing_channel                     object\n",
       "residence_area_type                  object\n",
       "premium                               int64\n",
       "renewal                               int64\n",
       "dtype: object"
      ]
     },
     "execution_count": 4,
     "metadata": {},
     "output_type": "execute_result"
    }
   ],
   "source": [
    "train.dtypes"
   ]
  },
  {
   "cell_type": "markdown",
   "metadata": {},
   "source": [
    "## imputation"
   ]
  },
  {
   "cell_type": "code",
   "execution_count": 5,
   "metadata": {
    "collapsed": true
   },
   "outputs": [],
   "source": [
    "nrow=train.id.count()"
   ]
  },
  {
   "cell_type": "code",
   "execution_count": 6,
   "metadata": {},
   "outputs": [
    {
     "data": {
      "text/plain": [
       "id                                  0.000000\n",
       "perc_premium_paid_by_cash_credit    0.000000\n",
       "age_in_days                         0.000000\n",
       "Income                              0.000000\n",
       "Count_3-6_months_late               0.001215\n",
       "Count_6-12_months_late              0.001215\n",
       "Count_more_than_12_months_late      0.001215\n",
       "application_underwriting_score      0.037243\n",
       "no_of_premiums_paid                 0.000000\n",
       "sourcing_channel                    0.000000\n",
       "residence_area_type                 0.000000\n",
       "premium                             0.000000\n",
       "renewal                             0.000000\n",
       "dtype: float64"
      ]
     },
     "execution_count": 6,
     "metadata": {},
     "output_type": "execute_result"
    }
   ],
   "source": [
    "train.isnull().apply(lambda x: sum(x)/nrow)"
   ]
  },
  {
   "cell_type": "code",
   "execution_count": 7,
   "metadata": {},
   "outputs": [
    {
     "data": {
      "text/plain": [
       "['Count_3-6_months_late',\n",
       " 'Count_6-12_months_late',\n",
       " 'Count_more_than_12_months_late',\n",
       " 'application_underwriting_score']"
      ]
     },
     "execution_count": 7,
     "metadata": {},
     "output_type": "execute_result"
    }
   ],
   "source": [
    "nulls=train.isnull().any()\n",
    "nulls=nulls[nulls].index.tolist()\n",
    "nulls"
   ]
  },
  {
   "cell_type": "code",
   "execution_count": 122,
   "metadata": {
    "collapsed": true
   },
   "outputs": [],
   "source": []
  },
  {
   "cell_type": "code",
   "execution_count": 57,
   "metadata": {},
   "outputs": [],
   "source": [
    "#from sklearn.preprocessing import Imputer\n",
    "#imp=Imputer(strategy='median',axis=1,verbose=1,copy=True)"
   ]
  },
  {
   "cell_type": "code",
   "execution_count": 64,
   "metadata": {},
   "outputs": [
    {
     "data": {
      "text/plain": [
       "(79853, 13)"
      ]
     },
     "execution_count": 64,
     "metadata": {},
     "output_type": "execute_result"
    }
   ],
   "source": [
    "#trainimp = imp.transform(train.loc[:,~train.columns.isin(['sourcing_channel','residence_area_type'])])"
   ]
  },
  {
   "cell_type": "code",
   "execution_count": null,
   "metadata": {
    "collapsed": true
   },
   "outputs": [],
   "source": []
  },
  {
   "cell_type": "code",
   "execution_count": 8,
   "metadata": {
    "collapsed": true
   },
   "outputs": [],
   "source": [
    "for x in nulls:\n",
    "    train.loc[train.loc[:,x].isnull(),x]=train.loc[:,nulls].median()[x]"
   ]
  },
  {
   "cell_type": "code",
   "execution_count": 9,
   "metadata": {},
   "outputs": [
    {
     "data": {
      "text/plain": [
       "id                                  0\n",
       "perc_premium_paid_by_cash_credit    0\n",
       "age_in_days                         0\n",
       "Income                              0\n",
       "Count_3-6_months_late               0\n",
       "Count_6-12_months_late              0\n",
       "Count_more_than_12_months_late      0\n",
       "application_underwriting_score      0\n",
       "no_of_premiums_paid                 0\n",
       "sourcing_channel                    0\n",
       "residence_area_type                 0\n",
       "premium                             0\n",
       "renewal                             0\n",
       "dtype: float64"
      ]
     },
     "execution_count": 9,
     "metadata": {},
     "output_type": "execute_result"
    }
   ],
   "source": [
    "train.isnull().apply(lambda x: sum(x)/nrow)"
   ]
  },
  {
   "cell_type": "code",
   "execution_count": 10,
   "metadata": {},
   "outputs": [
    {
     "data": {
      "text/plain": [
       "{'A', 'B', 'C', 'D', 'E'}"
      ]
     },
     "execution_count": 10,
     "metadata": {},
     "output_type": "execute_result"
    }
   ],
   "source": [
    "set(train.sourcing_channel)"
   ]
  },
  {
   "cell_type": "code",
   "execution_count": 11,
   "metadata": {},
   "outputs": [],
   "source": [
    "train=train.assign(sourcing_channel_cat=train.sourcing_channel.astype('category').cat.codes)"
   ]
  },
  {
   "cell_type": "code",
   "execution_count": 12,
   "metadata": {},
   "outputs": [
    {
     "data": {
      "text/plain": [
       "{'Rural', 'Urban'}"
      ]
     },
     "execution_count": 12,
     "metadata": {},
     "output_type": "execute_result"
    }
   ],
   "source": [
    "set(train.residence_area_type)"
   ]
  },
  {
   "cell_type": "code",
   "execution_count": 13,
   "metadata": {
    "collapsed": true
   },
   "outputs": [],
   "source": [
    "train=train.assign(residence_area_type_cat=train.residence_area_type.astype('category').cat.codes)"
   ]
  },
  {
   "cell_type": "code",
   "execution_count": 14,
   "metadata": {},
   "outputs": [
    {
     "data": {
      "text/html": [
       "<div>\n",
       "<table border=\"1\" class=\"dataframe\">\n",
       "  <thead>\n",
       "    <tr style=\"text-align: right;\">\n",
       "      <th></th>\n",
       "      <th>perc_premium_paid_by_cash_credit</th>\n",
       "      <th>age_in_days</th>\n",
       "      <th>Income</th>\n",
       "      <th>Count_3-6_months_late</th>\n",
       "      <th>Count_6-12_months_late</th>\n",
       "      <th>Count_more_than_12_months_late</th>\n",
       "      <th>application_underwriting_score</th>\n",
       "      <th>no_of_premiums_paid</th>\n",
       "      <th>premium</th>\n",
       "      <th>renewal</th>\n",
       "      <th>sourcing_channel_cat</th>\n",
       "      <th>residence_area_type_cat</th>\n",
       "    </tr>\n",
       "  </thead>\n",
       "  <tbody>\n",
       "    <tr>\n",
       "      <th>count</th>\n",
       "      <td>79853.000000</td>\n",
       "      <td>79853.000000</td>\n",
       "      <td>79853.000000</td>\n",
       "      <td>79853.000000</td>\n",
       "      <td>79853.000000</td>\n",
       "      <td>79853.000000</td>\n",
       "      <td>79853.000000</td>\n",
       "      <td>79853.000000</td>\n",
       "      <td>79853.000000</td>\n",
       "      <td>79853.000000</td>\n",
       "      <td>79853.000000</td>\n",
       "      <td>79853.000000</td>\n",
       "    </tr>\n",
       "    <tr>\n",
       "      <th>mean</th>\n",
       "      <td>0.314288</td>\n",
       "      <td>18846.696906</td>\n",
       "      <td>208847.171177</td>\n",
       "      <td>0.248369</td>\n",
       "      <td>0.078093</td>\n",
       "      <td>0.059935</td>\n",
       "      <td>99.072606</td>\n",
       "      <td>10.863887</td>\n",
       "      <td>10924.507533</td>\n",
       "      <td>0.937410</td>\n",
       "      <td>0.822799</td>\n",
       "      <td>0.603396</td>\n",
       "    </tr>\n",
       "    <tr>\n",
       "      <th>std</th>\n",
       "      <td>0.334915</td>\n",
       "      <td>5208.719136</td>\n",
       "      <td>496582.597257</td>\n",
       "      <td>0.691102</td>\n",
       "      <td>0.436251</td>\n",
       "      <td>0.311840</td>\n",
       "      <td>0.726395</td>\n",
       "      <td>5.170687</td>\n",
       "      <td>9401.676542</td>\n",
       "      <td>0.242226</td>\n",
       "      <td>1.052060</td>\n",
       "      <td>0.489195</td>\n",
       "    </tr>\n",
       "    <tr>\n",
       "      <th>min</th>\n",
       "      <td>0.000000</td>\n",
       "      <td>7670.000000</td>\n",
       "      <td>24030.000000</td>\n",
       "      <td>0.000000</td>\n",
       "      <td>0.000000</td>\n",
       "      <td>0.000000</td>\n",
       "      <td>91.900000</td>\n",
       "      <td>2.000000</td>\n",
       "      <td>1200.000000</td>\n",
       "      <td>0.000000</td>\n",
       "      <td>0.000000</td>\n",
       "      <td>0.000000</td>\n",
       "    </tr>\n",
       "    <tr>\n",
       "      <th>25%</th>\n",
       "      <td>0.034000</td>\n",
       "      <td>14974.000000</td>\n",
       "      <td>108010.000000</td>\n",
       "      <td>0.000000</td>\n",
       "      <td>0.000000</td>\n",
       "      <td>0.000000</td>\n",
       "      <td>98.830000</td>\n",
       "      <td>7.000000</td>\n",
       "      <td>5400.000000</td>\n",
       "      <td>1.000000</td>\n",
       "      <td>0.000000</td>\n",
       "      <td>0.000000</td>\n",
       "    </tr>\n",
       "    <tr>\n",
       "      <th>50%</th>\n",
       "      <td>0.167000</td>\n",
       "      <td>18625.000000</td>\n",
       "      <td>166560.000000</td>\n",
       "      <td>0.000000</td>\n",
       "      <td>0.000000</td>\n",
       "      <td>0.000000</td>\n",
       "      <td>99.210000</td>\n",
       "      <td>10.000000</td>\n",
       "      <td>7500.000000</td>\n",
       "      <td>1.000000</td>\n",
       "      <td>0.000000</td>\n",
       "      <td>1.000000</td>\n",
       "    </tr>\n",
       "    <tr>\n",
       "      <th>75%</th>\n",
       "      <td>0.538000</td>\n",
       "      <td>22636.000000</td>\n",
       "      <td>252090.000000</td>\n",
       "      <td>0.000000</td>\n",
       "      <td>0.000000</td>\n",
       "      <td>0.000000</td>\n",
       "      <td>99.520000</td>\n",
       "      <td>14.000000</td>\n",
       "      <td>13800.000000</td>\n",
       "      <td>1.000000</td>\n",
       "      <td>2.000000</td>\n",
       "      <td>1.000000</td>\n",
       "    </tr>\n",
       "    <tr>\n",
       "      <th>max</th>\n",
       "      <td>1.000000</td>\n",
       "      <td>37602.000000</td>\n",
       "      <td>90262600.000000</td>\n",
       "      <td>13.000000</td>\n",
       "      <td>17.000000</td>\n",
       "      <td>11.000000</td>\n",
       "      <td>99.890000</td>\n",
       "      <td>60.000000</td>\n",
       "      <td>60000.000000</td>\n",
       "      <td>1.000000</td>\n",
       "      <td>4.000000</td>\n",
       "      <td>1.000000</td>\n",
       "    </tr>\n",
       "  </tbody>\n",
       "</table>\n",
       "</div>"
      ],
      "text/plain": [
       "       perc_premium_paid_by_cash_credit   age_in_days           Income  \\\n",
       "count                      79853.000000  79853.000000     79853.000000   \n",
       "mean                           0.314288  18846.696906    208847.171177   \n",
       "std                            0.334915   5208.719136    496582.597257   \n",
       "min                            0.000000   7670.000000     24030.000000   \n",
       "25%                            0.034000  14974.000000    108010.000000   \n",
       "50%                            0.167000  18625.000000    166560.000000   \n",
       "75%                            0.538000  22636.000000    252090.000000   \n",
       "max                            1.000000  37602.000000  90262600.000000   \n",
       "\n",
       "       Count_3-6_months_late  Count_6-12_months_late  \\\n",
       "count           79853.000000            79853.000000   \n",
       "mean                0.248369                0.078093   \n",
       "std                 0.691102                0.436251   \n",
       "min                 0.000000                0.000000   \n",
       "25%                 0.000000                0.000000   \n",
       "50%                 0.000000                0.000000   \n",
       "75%                 0.000000                0.000000   \n",
       "max                13.000000               17.000000   \n",
       "\n",
       "       Count_more_than_12_months_late  application_underwriting_score  \\\n",
       "count                    79853.000000                    79853.000000   \n",
       "mean                         0.059935                       99.072606   \n",
       "std                          0.311840                        0.726395   \n",
       "min                          0.000000                       91.900000   \n",
       "25%                          0.000000                       98.830000   \n",
       "50%                          0.000000                       99.210000   \n",
       "75%                          0.000000                       99.520000   \n",
       "max                         11.000000                       99.890000   \n",
       "\n",
       "       no_of_premiums_paid       premium       renewal  sourcing_channel_cat  \\\n",
       "count         79853.000000  79853.000000  79853.000000          79853.000000   \n",
       "mean             10.863887  10924.507533      0.937410              0.822799   \n",
       "std               5.170687   9401.676542      0.242226              1.052060   \n",
       "min               2.000000   1200.000000      0.000000              0.000000   \n",
       "25%               7.000000   5400.000000      1.000000              0.000000   \n",
       "50%              10.000000   7500.000000      1.000000              0.000000   \n",
       "75%              14.000000  13800.000000      1.000000              2.000000   \n",
       "max              60.000000  60000.000000      1.000000              4.000000   \n",
       "\n",
       "       residence_area_type_cat  \n",
       "count             79853.000000  \n",
       "mean                  0.603396  \n",
       "std                   0.489195  \n",
       "min                   0.000000  \n",
       "25%                   0.000000  \n",
       "50%                   1.000000  \n",
       "75%                   1.000000  \n",
       "max                   1.000000  "
      ]
     },
     "execution_count": 14,
     "metadata": {},
     "output_type": "execute_result"
    }
   ],
   "source": [
    "train.loc[:,~(train.columns.isin(['id','sourcing_channel','residence_area_type']))].describe()"
   ]
  },
  {
   "cell_type": "markdown",
   "metadata": {},
   "source": [
    "## variables creation"
   ]
  },
  {
   "cell_type": "code",
   "execution_count": 40,
   "metadata": {
    "collapsed": true
   },
   "outputs": [],
   "source": [
    "train=train.assign(premiumToIncome=train.premium.astype('float64')/train.Income.astype('float64'))"
   ]
  },
  {
   "cell_type": "code",
   "execution_count": 19,
   "metadata": {
    "collapsed": true
   },
   "outputs": [],
   "source": [
    "train=train.assign(totalDelinquencies=train.loc[:,'Count_3-6_months_late']+train.loc[:,'Count_6-12_months_late']+train.loc[:,'Count_more_than_12_months_late'])"
   ]
  },
  {
   "cell_type": "code",
   "execution_count": 36,
   "metadata": {
    "collapsed": true
   },
   "outputs": [],
   "source": [
    "train=train.assign(precent_3_6_months_late=train.loc[:,'Count_3-6_months_late'].astype('float64')/train.totalDelinquencies.astype('float64'))"
   ]
  },
  {
   "cell_type": "code",
   "execution_count": 37,
   "metadata": {
    "collapsed": true
   },
   "outputs": [],
   "source": [
    "train=train.assign(precent_6_12_months_late=train.loc[:,'Count_6-12_months_late'].astype('float64')/train.totalDelinquencies.astype('float64'))"
   ]
  },
  {
   "cell_type": "code",
   "execution_count": 38,
   "metadata": {
    "collapsed": true
   },
   "outputs": [],
   "source": [
    "train=train.assign(precent_more_than_12_months_late=train.loc[:,'Count_more_than_12_months_late'].astype('float64')/train.totalDelinquencies.astype('float64'))"
   ]
  },
  {
   "cell_type": "code",
   "execution_count": 39,
   "metadata": {
    "collapsed": true
   },
   "outputs": [],
   "source": [
    "train=train.assign(delinquentToDue=train.totalDelinquencies.astype('float64')/train.no_of_premiums_paid.astype('float64'))"
   ]
  },
  {
   "cell_type": "code",
   "execution_count": 44,
   "metadata": {},
   "outputs": [],
   "source": [
    "area_wise=train.groupby('residence_area_type').median()"
   ]
  },
  {
   "cell_type": "code",
   "execution_count": 43,
   "metadata": {},
   "outputs": [],
   "source": [
    "channel_wise=train.groupby('sourcing_channel').median()"
   ]
  },
  {
   "cell_type": "code",
   "execution_count": 1,
   "metadata": {},
   "outputs": [],
   "source": [
    "# train=train.assign(premiumToIncome_bychannel=train.sourcing_channel.apply(lambda x: train.premiumToIncome/channel_wise.loc[x,'premiumToIncome']))"
   ]
  },
  {
   "cell_type": "code",
   "execution_count": 2,
   "metadata": {},
   "outputs": [],
   "source": [
    "# train.sourcing_channel.apply(lambda x: train.premiumToIncome/channel_wise.loc[x,'premiumToIncome'])"
   ]
  },
  {
   "cell_type": "markdown",
   "metadata": {},
   "source": [
    "## modeling"
   ]
  },
  {
   "cell_type": "markdown",
   "metadata": {},
   "source": [
    "#### regularized logistic"
   ]
  },
  {
   "cell_type": "code",
   "execution_count": 15,
   "metadata": {
    "collapsed": true
   },
   "outputs": [],
   "source": [
    "dv=train.loc[:,'renewal']"
   ]
  },
  {
   "cell_type": "code",
   "execution_count": 16,
   "metadata": {
    "collapsed": true
   },
   "outputs": [],
   "source": [
    "dev=train.loc[:,~(train.columns.isin(['id','sourcing_channel','residence_area_type','renewal']))]"
   ]
  },
  {
   "cell_type": "code",
   "execution_count": 81,
   "metadata": {
    "collapsed": true
   },
   "outputs": [],
   "source": [
    "from sklearn.cross_validation import StratifiedShuffleSplit, StratifiedKFold\n",
    "from sklearn.grid_search import GridSearchCV, ParameterGrid\n",
    "from sklearn.linear_model import LogisticRegression\n",
    "from sklearn.metrics import roc_auc_score, make_scorer, roc_curve"
   ]
  },
  {
   "cell_type": "code",
   "execution_count": 86,
   "metadata": {},
   "outputs": [],
   "source": [
    "sss = StratifiedShuffleSplit(dv,10,test_size=0.35,random_state=3492)\n",
    "model = LogisticRegression('l1',class_weight='auto',verbose=1,random_state=1615)\n",
    "GS = GridSearchCV(model,{'penalty':['l1','l2'],'C':[1.0,0.8,0.6,0.4,0.2,0.1,0.05,0.01,0.005,0.001]},scoring='roc_auc',cv=sss,verbose=10000)"
   ]
  },
  {
   "cell_type": "code",
   "execution_count": 87,
   "metadata": {},
   "outputs": [
    {
     "name": "stdout",
     "output_type": "stream",
     "text": [
      "Fitting 10 folds for each of 20 candidates, totalling 200 fits\n",
      "[CV] penalty=l1, C=1.0 ...............................................\n",
      "[LibLinear][CV] ...................... penalty=l1, C=1.0, score=0.833869 -  23.2s\n",
      "[Parallel(n_jobs=1)]: Done   1 jobs       | elapsed:   23.2s\n",
      "[CV] penalty=l1, C=1.0 ...............................................\n",
      "[LibLinear]"
     ]
    },
    {
     "name": "stderr",
     "output_type": "stream",
     "text": [
      "C:\\Anaconda3\\lib\\site-packages\\sklearn\\svm\\base.py:848: ConvergenceWarning: Liblinear failed to converge, increase the number of iterations.\n",
      "  \"the number of iterations.\", ConvergenceWarning)\n",
      "C:\\Anaconda3\\lib\\site-packages\\sklearn\\svm\\base.py:848: ConvergenceWarning: Liblinear failed to converge, increase the number of iterations.\n",
      "  \"the number of iterations.\", ConvergenceWarning)\n"
     ]
    },
    {
     "name": "stdout",
     "output_type": "stream",
     "text": [
      "[CV] ...................... penalty=l1, C=1.0, score=0.833250 -  18.1s\n",
      "[Parallel(n_jobs=1)]: Done   2 jobs       | elapsed:   41.5s\n",
      "[CV] penalty=l1, C=1.0 ...............................................\n",
      "[LibLinear][CV] ...................... penalty=l1, C=1.0, score=0.831443 -   2.5s\n",
      "[Parallel(n_jobs=1)]: Done   3 jobs       | elapsed:   44.1s\n",
      "[CV] penalty=l1, C=1.0 ...............................................\n",
      "[LibLinear][CV] ...................... penalty=l1, C=1.0, score=0.833932 -  14.4s\n",
      "[Parallel(n_jobs=1)]: Done   4 jobs       | elapsed:   58.7s\n",
      "[CV] penalty=l1, C=1.0 ...............................................\n",
      "[LibLinear][CV] ...................... penalty=l1, C=1.0, score=0.833056 -   2.0s\n",
      "[Parallel(n_jobs=1)]: Done   5 jobs       | elapsed:  1.0min\n",
      "[CV] penalty=l1, C=1.0 ...............................................\n",
      "[LibLinear][CV] ...................... penalty=l1, C=1.0, score=0.833391 -   2.6s\n",
      "[Parallel(n_jobs=1)]: Done   6 jobs       | elapsed:  1.1min\n",
      "[CV] penalty=l1, C=1.0 ...............................................\n",
      "[LibLinear][CV] ...................... penalty=l1, C=1.0, score=0.841675 -   2.5s\n",
      "[Parallel(n_jobs=1)]: Done   7 jobs       | elapsed:  1.1min\n",
      "[CV] penalty=l1, C=1.0 ...............................................\n",
      "[LibLinear][CV] ...................... penalty=l1, C=1.0, score=0.828940 -   8.4s\n",
      "[Parallel(n_jobs=1)]: Done   8 jobs       | elapsed:  1.2min\n",
      "[CV] penalty=l1, C=1.0 ...............................................\n",
      "[LibLinear][CV] ...................... penalty=l1, C=1.0, score=0.821570 -   0.8s\n",
      "[Parallel(n_jobs=1)]: Done   9 jobs       | elapsed:  1.3min\n",
      "[CV] penalty=l1, C=1.0 ...............................................\n",
      "[LibLinear][CV] ...................... penalty=l1, C=1.0, score=0.839258 -   4.5s\n",
      "[Parallel(n_jobs=1)]: Done  10 jobs       | elapsed:  1.3min\n",
      "[CV] penalty=l2, C=1.0 ...............................................\n",
      "[LibLinear][CV] ...................... penalty=l2, C=1.0, score=0.832082 -   0.6s\n",
      "[Parallel(n_jobs=1)]: Done  11 jobs       | elapsed:  1.3min\n",
      "[CV] penalty=l2, C=1.0 ...............................................\n",
      "[LibLinear][CV] ...................... penalty=l2, C=1.0, score=0.832936 -   0.7s\n",
      "[Parallel(n_jobs=1)]: Done  12 jobs       | elapsed:  1.4min\n",
      "[CV] penalty=l2, C=1.0 ...............................................\n",
      "[LibLinear][CV] ...................... penalty=l2, C=1.0, score=0.831589 -   0.6s\n",
      "[Parallel(n_jobs=1)]: Done  13 jobs       | elapsed:  1.4min\n",
      "[CV] penalty=l2, C=1.0 ...............................................\n",
      "[LibLinear][CV] ...................... penalty=l2, C=1.0, score=0.833958 -   0.6s\n",
      "[Parallel(n_jobs=1)]: Done  14 jobs       | elapsed:  1.4min\n",
      "[CV] penalty=l2, C=1.0 ...............................................\n",
      "[LibLinear][CV] ...................... penalty=l2, C=1.0, score=0.833478 -   0.7s\n",
      "[Parallel(n_jobs=1)]: Done  15 jobs       | elapsed:  1.4min\n",
      "[CV] penalty=l2, C=1.0 ...............................................\n",
      "[LibLinear][CV] ...................... penalty=l2, C=1.0, score=0.833258 -   0.6s\n",
      "[Parallel(n_jobs=1)]: Done  16 jobs       | elapsed:  1.4min\n",
      "[CV] penalty=l2, C=1.0 ...............................................\n",
      "[LibLinear][CV] ...................... penalty=l2, C=1.0, score=0.841765 -   0.7s\n",
      "[Parallel(n_jobs=1)]: Done  17 jobs       | elapsed:  1.4min\n",
      "[CV] penalty=l2, C=1.0 ...............................................\n",
      "[LibLinear][CV] ...................... penalty=l2, C=1.0, score=0.828782 -   0.6s\n",
      "[Parallel(n_jobs=1)]: Done  18 jobs       | elapsed:  1.4min\n",
      "[CV] penalty=l2, C=1.0 ...............................................\n",
      "[LibLinear][CV] ...................... penalty=l2, C=1.0, score=0.821403 -   0.7s\n",
      "[Parallel(n_jobs=1)]: Done  19 jobs       | elapsed:  1.5min\n",
      "[CV] penalty=l2, C=1.0 ...............................................\n",
      "[LibLinear][CV] ...................... penalty=l2, C=1.0, score=0.839634 -   0.7s\n",
      "[Parallel(n_jobs=1)]: Done  20 jobs       | elapsed:  1.5min\n",
      "[CV] penalty=l1, C=0.8 ...............................................\n",
      "[LibLinear][CV] ...................... penalty=l1, C=0.8, score=0.833545 -  11.3s\n",
      "[Parallel(n_jobs=1)]: Done  21 jobs       | elapsed:  1.7min\n",
      "[CV] penalty=l1, C=0.8 ...............................................\n",
      "[LibLinear][CV] ...................... penalty=l1, C=0.8, score=0.832969 -   8.9s\n",
      "[Parallel(n_jobs=1)]: Done  22 jobs       | elapsed:  1.8min\n",
      "[CV] penalty=l1, C=0.8 ...............................................\n",
      "[LibLinear][CV] ...................... penalty=l1, C=0.8, score=0.831415 -   1.8s\n",
      "[Parallel(n_jobs=1)]: Done  23 jobs       | elapsed:  1.8min\n",
      "[CV] penalty=l1, C=0.8 ...............................................\n",
      "[LibLinear]"
     ]
    },
    {
     "name": "stderr",
     "output_type": "stream",
     "text": [
      "C:\\Anaconda3\\lib\\site-packages\\sklearn\\svm\\base.py:848: ConvergenceWarning: Liblinear failed to converge, increase the number of iterations.\n",
      "  \"the number of iterations.\", ConvergenceWarning)\n",
      "C:\\Anaconda3\\lib\\site-packages\\sklearn\\svm\\base.py:848: ConvergenceWarning: Liblinear failed to converge, increase the number of iterations.\n",
      "  \"the number of iterations.\", ConvergenceWarning)\n"
     ]
    },
    {
     "name": "stdout",
     "output_type": "stream",
     "text": [
      "[CV] ...................... penalty=l1, C=0.8, score=0.834056 -  32.2s\n",
      "[Parallel(n_jobs=1)]: Done  24 jobs       | elapsed:  2.4min\n",
      "[CV] penalty=l1, C=0.8 ...............................................\n",
      "[LibLinear][CV] ...................... penalty=l1, C=0.8, score=0.833270 -   7.7s\n",
      "[Parallel(n_jobs=1)]: Done  25 jobs       | elapsed:  2.5min\n",
      "[CV] penalty=l1, C=0.8 ...............................................\n",
      "[LibLinear][CV] ...................... penalty=l1, C=0.8, score=0.833568 -   7.9s\n",
      "[Parallel(n_jobs=1)]: Done  26 jobs       | elapsed:  2.6min\n",
      "[CV] penalty=l1, C=0.8 ...............................................\n",
      "[LibLinear]"
     ]
    },
    {
     "name": "stderr",
     "output_type": "stream",
     "text": [
      "C:\\Anaconda3\\lib\\site-packages\\sklearn\\svm\\base.py:848: ConvergenceWarning: Liblinear failed to converge, increase the number of iterations.\n",
      "  \"the number of iterations.\", ConvergenceWarning)\n",
      "C:\\Anaconda3\\lib\\site-packages\\sklearn\\svm\\base.py:848: ConvergenceWarning: Liblinear failed to converge, increase the number of iterations.\n",
      "  \"the number of iterations.\", ConvergenceWarning)\n"
     ]
    },
    {
     "name": "stdout",
     "output_type": "stream",
     "text": [
      "[CV] ...................... penalty=l1, C=0.8, score=0.842033 -  15.4s\n",
      "[Parallel(n_jobs=1)]: Done  27 jobs       | elapsed:  2.9min\n",
      "[CV] penalty=l1, C=0.8 ...............................................\n",
      "[LibLinear][CV] ...................... penalty=l1, C=0.8, score=0.829075 -  15.5s\n",
      "[Parallel(n_jobs=1)]: Done  28 jobs       | elapsed:  3.2min\n",
      "[CV] penalty=l1, C=0.8 ...............................................\n",
      "[LibLinear][CV] ...................... penalty=l1, C=0.8, score=0.821587 -   1.2s\n",
      "[Parallel(n_jobs=1)]: Done  29 jobs       | elapsed:  3.2min\n",
      "[CV] penalty=l1, C=0.8 ...............................................\n",
      "[LibLinear][CV] ...................... penalty=l1, C=0.8, score=0.839484 -  12.8s\n",
      "[Parallel(n_jobs=1)]: Done  30 jobs       | elapsed:  3.4min\n",
      "[CV] penalty=l2, C=0.8 ...............................................\n",
      "[LibLinear][CV] ...................... penalty=l2, C=0.8, score=0.833187 -   0.6s\n",
      "[Parallel(n_jobs=1)]: Done  31 jobs       | elapsed:  3.4min\n",
      "[CV] penalty=l2, C=0.8 ...............................................\n",
      "[LibLinear][CV] ...................... penalty=l2, C=0.8, score=0.833342 -   0.6s\n",
      "[Parallel(n_jobs=1)]: Done  32 jobs       | elapsed:  3.4min\n",
      "[CV] penalty=l2, C=0.8 ...............................................\n",
      "[LibLinear][CV] ...................... penalty=l2, C=0.8, score=0.824554 -   0.5s\n",
      "[Parallel(n_jobs=1)]: Done  33 jobs       | elapsed:  3.4min\n",
      "[CV] penalty=l2, C=0.8 ...............................................\n",
      "[LibLinear][CV] ...................... penalty=l2, C=0.8, score=0.830921 -   0.5s\n",
      "[Parallel(n_jobs=1)]: Done  34 jobs       | elapsed:  3.4min\n",
      "[CV] penalty=l2, C=0.8 ...............................................\n",
      "[LibLinear][CV] ...................... penalty=l2, C=0.8, score=0.833571 -   0.7s\n",
      "[Parallel(n_jobs=1)]: Done  35 jobs       | elapsed:  3.5min\n",
      "[CV] penalty=l2, C=0.8 ...............................................\n",
      "[LibLinear][CV] ...................... penalty=l2, C=0.8, score=0.833469 -   0.7s\n",
      "[Parallel(n_jobs=1)]: Done  36 jobs       | elapsed:  3.5min\n",
      "[CV] penalty=l2, C=0.8 ...............................................\n",
      "[LibLinear][CV] ...................... penalty=l2, C=0.8, score=0.841753 -   0.6s\n",
      "[Parallel(n_jobs=1)]: Done  37 jobs       | elapsed:  3.5min\n",
      "[CV] penalty=l2, C=0.8 ...............................................\n",
      "[LibLinear][CV] ...................... penalty=l2, C=0.8, score=0.828797 -   0.6s\n",
      "[Parallel(n_jobs=1)]: Done  38 jobs       | elapsed:  3.5min\n",
      "[CV] penalty=l2, C=0.8 ...............................................\n",
      "[LibLinear][CV] ...................... penalty=l2, C=0.8, score=0.811865 -   0.6s\n",
      "[Parallel(n_jobs=1)]: Done  39 jobs       | elapsed:  3.5min\n",
      "[CV] penalty=l2, C=0.8 ...............................................\n",
      "[LibLinear][CV] ...................... penalty=l2, C=0.8, score=0.817606 -   0.5s\n",
      "[Parallel(n_jobs=1)]: Done  40 jobs       | elapsed:  3.5min\n",
      "[CV] penalty=l1, C=0.6 ...............................................\n",
      "[LibLinear][CV] ...................... penalty=l1, C=0.6, score=0.833181 -   0.5s\n",
      "[Parallel(n_jobs=1)]: Done  41 jobs       | elapsed:  3.5min\n",
      "[CV] penalty=l1, C=0.6 ...............................................\n",
      "[LibLinear][CV] ...................... penalty=l1, C=0.6, score=0.832718 -   0.9s\n",
      "[Parallel(n_jobs=1)]: Done  42 jobs       | elapsed:  3.6min\n",
      "[CV] penalty=l1, C=0.6 ...............................................\n",
      "[LibLinear][CV] ...................... penalty=l1, C=0.6, score=0.831374 -   0.7s\n",
      "[Parallel(n_jobs=1)]: Done  43 jobs       | elapsed:  3.6min\n",
      "[CV] penalty=l1, C=0.6 ...............................................\n",
      "[LibLinear][CV] ...................... penalty=l1, C=0.6, score=0.833461 -   1.2s\n",
      "[Parallel(n_jobs=1)]: Done  44 jobs       | elapsed:  3.6min\n",
      "[CV] penalty=l1, C=0.6 ...............................................\n",
      "[LibLinear][CV] ...................... penalty=l1, C=0.6, score=0.833025 -   1.2s\n",
      "[Parallel(n_jobs=1)]: Done  45 jobs       | elapsed:  3.6min\n",
      "[CV] penalty=l1, C=0.6 ...............................................\n",
      "[LibLinear][CV] ...................... penalty=l1, C=0.6, score=0.833267 -   0.5s\n",
      "[Parallel(n_jobs=1)]: Done  46 jobs       | elapsed:  3.6min\n",
      "[CV] penalty=l1, C=0.6 ...............................................\n",
      "[LibLinear]"
     ]
    },
    {
     "name": "stderr",
     "output_type": "stream",
     "text": [
      "C:\\Anaconda3\\lib\\site-packages\\sklearn\\svm\\base.py:848: ConvergenceWarning: Liblinear failed to converge, increase the number of iterations.\n",
      "  \"the number of iterations.\", ConvergenceWarning)\n",
      "C:\\Anaconda3\\lib\\site-packages\\sklearn\\svm\\base.py:848: ConvergenceWarning: Liblinear failed to converge, increase the number of iterations.\n",
      "  \"the number of iterations.\", ConvergenceWarning)\n"
     ]
    },
    {
     "name": "stdout",
     "output_type": "stream",
     "text": [
      "[CV] ...................... penalty=l1, C=0.6, score=0.841915 -  17.8s\n",
      "[Parallel(n_jobs=1)]: Done  47 jobs       | elapsed:  3.9min\n",
      "[CV] penalty=l1, C=0.6 ...............................................\n",
      "[LibLinear][CV] ...................... penalty=l1, C=0.6, score=0.828725 -   5.2s\n",
      "[Parallel(n_jobs=1)]: Done  48 jobs       | elapsed:  4.0min\n",
      "[CV] penalty=l1, C=0.6 ...............................................\n",
      "[LibLinear][CV] ...................... penalty=l1, C=0.6, score=0.821597 -   2.1s\n",
      "[Parallel(n_jobs=1)]: Done  49 jobs       | elapsed:  4.0min\n",
      "[CV] penalty=l1, C=0.6 ...............................................\n",
      "[LibLinear][CV] ...................... penalty=l1, C=0.6, score=0.839275 -   8.4s\n",
      "[Parallel(n_jobs=1)]: Done  50 jobs       | elapsed:  4.2min\n",
      "[CV] penalty=l2, C=0.6 ...............................................\n",
      "[LibLinear][CV] ...................... penalty=l2, C=0.6, score=0.833471 -   0.6s\n",
      "[Parallel(n_jobs=1)]: Done  51 jobs       | elapsed:  4.2min\n",
      "[CV] penalty=l2, C=0.6 ...............................................\n",
      "[LibLinear][CV] ...................... penalty=l2, C=0.6, score=0.832831 -   0.7s\n",
      "[Parallel(n_jobs=1)]: Done  52 jobs       | elapsed:  4.2min\n",
      "[CV] penalty=l2, C=0.6 ...............................................\n",
      "[LibLinear][CV] ...................... penalty=l2, C=0.6, score=0.831792 -   0.6s\n",
      "[Parallel(n_jobs=1)]: Done  53 jobs       | elapsed:  4.2min\n",
      "[CV] penalty=l2, C=0.6 ...............................................\n",
      "[LibLinear][CV] ...................... penalty=l2, C=0.6, score=0.833956 -   0.6s\n",
      "[Parallel(n_jobs=1)]: Done  54 jobs       | elapsed:  4.2min\n",
      "[CV] penalty=l2, C=0.6 ...............................................\n",
      "[LibLinear][CV] ...................... penalty=l2, C=0.6, score=0.833029 -   0.6s\n",
      "[Parallel(n_jobs=1)]: Done  55 jobs       | elapsed:  4.3min\n",
      "[CV] penalty=l2, C=0.6 ...............................................\n",
      "[LibLinear][CV] ...................... penalty=l2, C=0.6, score=0.833452 -   0.7s\n",
      "[Parallel(n_jobs=1)]: Done  56 jobs       | elapsed:  4.3min\n",
      "[CV] penalty=l2, C=0.6 ...............................................\n",
      "[LibLinear][CV] ...................... penalty=l2, C=0.6, score=0.841751 -   0.6s\n",
      "[Parallel(n_jobs=1)]: Done  57 jobs       | elapsed:  4.3min\n",
      "[CV] penalty=l2, C=0.6 ...............................................\n",
      "[LibLinear][CV] ...................... penalty=l2, C=0.6, score=0.828714 -   0.6s\n",
      "[Parallel(n_jobs=1)]: Done  58 jobs       | elapsed:  4.3min\n",
      "[CV] penalty=l2, C=0.6 ...............................................\n",
      "[LibLinear][CV] ...................... penalty=l2, C=0.6, score=0.815763 -   0.7s\n",
      "[Parallel(n_jobs=1)]: Done  59 jobs       | elapsed:  4.3min\n",
      "[CV] penalty=l2, C=0.6 ...............................................\n",
      "[LibLinear][CV] ...................... penalty=l2, C=0.6, score=0.835572 -   0.7s\n",
      "[Parallel(n_jobs=1)]: Done  60 jobs       | elapsed:  4.3min\n",
      "[CV] penalty=l1, C=0.4 ...............................................\n",
      "[LibLinear][CV] ...................... penalty=l1, C=0.4, score=0.833174 -   0.6s\n",
      "[Parallel(n_jobs=1)]: Done  61 jobs       | elapsed:  4.3min\n",
      "[CV] penalty=l1, C=0.4 ...............................................\n",
      "[LibLinear][CV] ...................... penalty=l1, C=0.4, score=0.832711 -   0.7s\n",
      "[Parallel(n_jobs=1)]: Done  62 jobs       | elapsed:  4.3min\n",
      "[CV] penalty=l1, C=0.4 ...............................................\n",
      "[LibLinear][CV] ...................... penalty=l1, C=0.4, score=0.831356 -   0.7s\n",
      "[Parallel(n_jobs=1)]: Done  63 jobs       | elapsed:  4.4min\n",
      "[CV] penalty=l1, C=0.4 ...............................................\n",
      "[LibLinear][CV] ...................... penalty=l1, C=0.4, score=0.833446 -   0.8s\n",
      "[Parallel(n_jobs=1)]: Done  64 jobs       | elapsed:  4.4min\n",
      "[CV] penalty=l1, C=0.4 ...............................................\n",
      "[LibLinear][CV] ...................... penalty=l1, C=0.4, score=0.832999 -   0.9s\n",
      "[Parallel(n_jobs=1)]: Done  65 jobs       | elapsed:  4.4min\n",
      "[CV] penalty=l1, C=0.4 ...............................................\n",
      "[LibLinear][CV] ...................... penalty=l1, C=0.4, score=0.833248 -   0.6s\n",
      "[Parallel(n_jobs=1)]: Done  66 jobs       | elapsed:  4.4min\n",
      "[CV] penalty=l1, C=0.4 ...............................................\n",
      "[LibLinear][CV] ...................... penalty=l1, C=0.4, score=0.841599 -   0.7s\n",
      "[Parallel(n_jobs=1)]: Done  67 jobs       | elapsed:  4.4min\n",
      "[CV] penalty=l1, C=0.4 ...............................................\n",
      "[LibLinear][CV] ...................... penalty=l1, C=0.4, score=0.828611 -   0.8s\n",
      "[Parallel(n_jobs=1)]: Done  68 jobs       | elapsed:  4.4min\n",
      "[CV] penalty=l1, C=0.4 ...............................................\n",
      "[LibLinear][CV] ...................... penalty=l1, C=0.4, score=0.821560 -   0.8s\n",
      "[Parallel(n_jobs=1)]: Done  69 jobs       | elapsed:  4.4min\n",
      "[CV] penalty=l1, C=0.4 ...............................................\n",
      "[LibLinear][CV] ...................... penalty=l1, C=0.4, score=0.839086 -   0.7s\n",
      "[Parallel(n_jobs=1)]: Done  70 jobs       | elapsed:  4.5min\n",
      "[CV] penalty=l2, C=0.4 ...............................................\n",
      "[LibLinear][CV] ...................... penalty=l2, C=0.4, score=0.832199 -   0.7s\n",
      "[Parallel(n_jobs=1)]: Done  71 jobs       | elapsed:  4.5min\n",
      "[CV] penalty=l2, C=0.4 ...............................................\n",
      "[LibLinear][CV] ...................... penalty=l2, C=0.4, score=0.832899 -   0.8s\n",
      "[Parallel(n_jobs=1)]: Done  72 jobs       | elapsed:  4.5min\n",
      "[CV] penalty=l2, C=0.4 ...............................................\n",
      "[LibLinear][CV] ...................... penalty=l2, C=0.4, score=0.831580 -   0.7s\n",
      "[Parallel(n_jobs=1)]: Done  73 jobs       | elapsed:  4.5min\n",
      "[CV] penalty=l2, C=0.4 ...............................................\n",
      "[LibLinear][CV] ...................... penalty=l2, C=0.4, score=0.834023 -   0.7s\n",
      "[Parallel(n_jobs=1)]: Done  74 jobs       | elapsed:  4.5min\n",
      "[CV] penalty=l2, C=0.4 ...............................................\n",
      "[LibLinear][CV] ...................... penalty=l2, C=0.4, score=0.833219 -   0.9s\n",
      "[Parallel(n_jobs=1)]: Done  75 jobs       | elapsed:  4.5min\n",
      "[CV] penalty=l2, C=0.4 ...............................................\n",
      "[LibLinear][CV] ...................... penalty=l2, C=0.4, score=0.833156 -   0.8s\n",
      "[Parallel(n_jobs=1)]: Done  76 jobs       | elapsed:  4.5min\n",
      "[CV] penalty=l2, C=0.4 ...............................................\n",
      "[LibLinear][CV] ...................... penalty=l2, C=0.4, score=0.841754 -   0.7s\n",
      "[Parallel(n_jobs=1)]: Done  77 jobs       | elapsed:  4.6min\n",
      "[CV] penalty=l2, C=0.4 ...............................................\n",
      "[LibLinear][CV] ...................... penalty=l2, C=0.4, score=0.828729 -   0.7s\n",
      "[Parallel(n_jobs=1)]: Done  78 jobs       | elapsed:  4.6min\n",
      "[CV] penalty=l2, C=0.4 ...............................................\n",
      "[LibLinear][CV] ...................... penalty=l2, C=0.4, score=0.821800 -   0.8s\n",
      "[Parallel(n_jobs=1)]: Done  79 jobs       | elapsed:  4.6min\n",
      "[CV] penalty=l2, C=0.4 ...............................................\n",
      "[LibLinear][CV] ...................... penalty=l2, C=0.4, score=0.839625 -   0.8s\n",
      "[Parallel(n_jobs=1)]: Done  80 jobs       | elapsed:  4.6min\n",
      "[CV] penalty=l1, C=0.2 ...............................................\n",
      "[LibLinear][CV] ...................... penalty=l1, C=0.2, score=0.833148 -   0.6s\n",
      "[Parallel(n_jobs=1)]: Done  81 jobs       | elapsed:  4.6min\n",
      "[CV] penalty=l1, C=0.2 ...............................................\n",
      "[LibLinear][CV] ...................... penalty=l1, C=0.2, score=0.832695 -   0.5s\n",
      "[Parallel(n_jobs=1)]: Done  82 jobs       | elapsed:  4.6min\n",
      "[CV] penalty=l1, C=0.2 ...............................................\n",
      "[LibLinear][CV] ...................... penalty=l1, C=0.2, score=0.831287 -   0.6s\n",
      "[Parallel(n_jobs=1)]: Done  83 jobs       | elapsed:  4.6min\n",
      "[CV] penalty=l1, C=0.2 ...............................................\n",
      "[LibLinear][CV] ...................... penalty=l1, C=0.2, score=0.833411 -   0.5s\n",
      "[Parallel(n_jobs=1)]: Done  84 jobs       | elapsed:  4.7min\n",
      "[CV] penalty=l1, C=0.2 ...............................................\n",
      "[LibLinear][CV] ...................... penalty=l1, C=0.2, score=0.832972 -   0.6s\n",
      "[Parallel(n_jobs=1)]: Done  85 jobs       | elapsed:  4.7min\n",
      "[CV] penalty=l1, C=0.2 ...............................................\n",
      "[LibLinear][CV] ...................... penalty=l1, C=0.2, score=0.833206 -   0.6s\n",
      "[Parallel(n_jobs=1)]: Done  86 jobs       | elapsed:  4.7min\n",
      "[CV] penalty=l1, C=0.2 ...............................................\n",
      "[LibLinear][CV] ...................... penalty=l1, C=0.2, score=0.841563 -   0.6s\n",
      "[Parallel(n_jobs=1)]: Done  87 jobs       | elapsed:  4.7min\n",
      "[CV] penalty=l1, C=0.2 ...............................................\n",
      "[LibLinear][CV] ...................... penalty=l1, C=0.2, score=0.828573 -   0.5s\n",
      "[Parallel(n_jobs=1)]: Done  88 jobs       | elapsed:  4.7min\n",
      "[CV] penalty=l1, C=0.2 ...............................................\n",
      "[LibLinear][CV] ...................... penalty=l1, C=0.2, score=0.821541 -   0.7s\n",
      "[Parallel(n_jobs=1)]: Done  89 jobs       | elapsed:  4.7min\n",
      "[CV] penalty=l1, C=0.2 ...............................................\n",
      "[LibLinear][CV] ...................... penalty=l1, C=0.2, score=0.839070 -   0.7s\n",
      "[Parallel(n_jobs=1)]: Done  90 jobs       | elapsed:  4.7min\n",
      "[CV] penalty=l2, C=0.2 ...............................................\n",
      "[LibLinear][CV] ...................... penalty=l2, C=0.2, score=0.832374 -   0.6s\n",
      "[Parallel(n_jobs=1)]: Done  91 jobs       | elapsed:  4.7min\n",
      "[CV] penalty=l2, C=0.2 ...............................................\n",
      "[LibLinear][CV] ...................... penalty=l2, C=0.2, score=0.833158 -   0.9s\n",
      "[Parallel(n_jobs=1)]: Done  92 jobs       | elapsed:  4.8min\n",
      "[CV] penalty=l2, C=0.2 ...............................................\n",
      "[LibLinear][CV] ...................... penalty=l2, C=0.2, score=0.831677 -   0.6s\n",
      "[Parallel(n_jobs=1)]: Done  93 jobs       | elapsed:  4.8min\n",
      "[CV] penalty=l2, C=0.2 ...............................................\n",
      "[LibLinear][CV] ...................... penalty=l2, C=0.2, score=0.833655 -   0.6s\n",
      "[Parallel(n_jobs=1)]: Done  94 jobs       | elapsed:  4.8min\n",
      "[CV] penalty=l2, C=0.2 ...............................................\n",
      "[LibLinear][CV] ...................... penalty=l2, C=0.2, score=0.823514 -   0.7s\n",
      "[Parallel(n_jobs=1)]: Done  95 jobs       | elapsed:  4.8min\n",
      "[CV] penalty=l2, C=0.2 ...............................................\n",
      "[LibLinear][CV] ...................... penalty=l2, C=0.2, score=0.831174 -   0.6s\n",
      "[Parallel(n_jobs=1)]: Done  96 jobs       | elapsed:  4.8min\n",
      "[CV] penalty=l2, C=0.2 ...............................................\n",
      "[LibLinear][CV] ...................... penalty=l2, C=0.2, score=0.834085 -   0.6s\n",
      "[Parallel(n_jobs=1)]: Done  97 jobs       | elapsed:  4.8min\n",
      "[CV] penalty=l2, C=0.2 ...............................................\n",
      "[LibLinear][CV] ...................... penalty=l2, C=0.2, score=0.828762 -   0.6s\n",
      "[Parallel(n_jobs=1)]: Done  98 jobs       | elapsed:  4.8min\n",
      "[CV] penalty=l2, C=0.2 ...............................................\n",
      "[LibLinear][CV] ...................... penalty=l2, C=0.2, score=0.821780 -   0.7s\n",
      "[Parallel(n_jobs=1)]: Done  99 jobs       | elapsed:  4.9min\n",
      "[CV] penalty=l2, C=0.2 ...............................................\n",
      "[LibLinear][CV] ...................... penalty=l2, C=0.2, score=0.839374 -   0.6s\n",
      "[Parallel(n_jobs=1)]: Done 100 jobs       | elapsed:  4.9min\n",
      "[CV] penalty=l1, C=0.1 ...............................................\n",
      "[LibLinear][CV] ...................... penalty=l1, C=0.1, score=0.833089 -   0.4s\n",
      "[Parallel(n_jobs=1)]: Done 101 jobs       | elapsed:  4.9min\n",
      "[CV] penalty=l1, C=0.1 ...............................................\n",
      "[LibLinear][CV] ...................... penalty=l1, C=0.1, score=0.832653 -   0.3s\n",
      "[Parallel(n_jobs=1)]: Done 102 jobs       | elapsed:  4.9min\n",
      "[CV] penalty=l1, C=0.1 ...............................................\n",
      "[LibLinear][CV] ...................... penalty=l1, C=0.1, score=0.831171 -   0.4s\n",
      "[Parallel(n_jobs=1)]: Done 103 jobs       | elapsed:  4.9min\n",
      "[CV] penalty=l1, C=0.1 ...............................................\n",
      "[LibLinear][CV] ...................... penalty=l1, C=0.1, score=0.833316 -   0.5s\n",
      "[Parallel(n_jobs=1)]: Done 104 jobs       | elapsed:  4.9min\n",
      "[CV] penalty=l1, C=0.1 ...............................................\n",
      "[LibLinear][CV] ...................... penalty=l1, C=0.1, score=0.832912 -   0.5s\n",
      "[Parallel(n_jobs=1)]: Done 105 jobs       | elapsed:  4.9min\n",
      "[CV] penalty=l1, C=0.1 ...............................................\n",
      "[LibLinear][CV] ...................... penalty=l1, C=0.1, score=0.833117 -   0.3s\n",
      "[Parallel(n_jobs=1)]: Done 106 jobs       | elapsed:  4.9min\n",
      "[CV] penalty=l1, C=0.1 ...............................................\n",
      "[LibLinear][CV] ...................... penalty=l1, C=0.1, score=0.841488 -   0.5s\n",
      "[Parallel(n_jobs=1)]: Done 107 jobs       | elapsed:  4.9min\n",
      "[CV] penalty=l1, C=0.1 ...............................................\n",
      "[LibLinear][CV] ...................... penalty=l1, C=0.1, score=0.828507 -   0.3s\n",
      "[Parallel(n_jobs=1)]: Done 108 jobs       | elapsed:  4.9min\n",
      "[CV] penalty=l1, C=0.1 ...............................................\n",
      "[LibLinear][CV] ...................... penalty=l1, C=0.1, score=0.821488 -   0.3s\n",
      "[Parallel(n_jobs=1)]: Done 109 jobs       | elapsed:  4.9min\n",
      "[CV] penalty=l1, C=0.1 ...............................................\n",
      "[LibLinear][CV] ...................... penalty=l1, C=0.1, score=0.839031 -   0.4s\n",
      "[Parallel(n_jobs=1)]: Done 110 jobs       | elapsed:  5.0min\n",
      "[CV] penalty=l2, C=0.1 ...............................................\n",
      "[LibLinear][CV] ...................... penalty=l2, C=0.1, score=0.832656 -   0.6s\n",
      "[Parallel(n_jobs=1)]: Done 111 jobs       | elapsed:  5.0min\n",
      "[CV] penalty=l2, C=0.1 ...............................................\n",
      "[LibLinear][CV] ...................... penalty=l2, C=0.1, score=0.832722 -   0.7s\n",
      "[Parallel(n_jobs=1)]: Done 112 jobs       | elapsed:  5.0min\n",
      "[CV] penalty=l2, C=0.1 ...............................................\n",
      "[LibLinear][CV] ...................... penalty=l2, C=0.1, score=0.831511 -   0.6s\n",
      "[Parallel(n_jobs=1)]: Done 113 jobs       | elapsed:  5.0min\n",
      "[CV] penalty=l2, C=0.1 ...............................................\n",
      "[LibLinear][CV] ...................... penalty=l2, C=0.1, score=0.834413 -   0.6s\n",
      "[Parallel(n_jobs=1)]: Done 114 jobs       | elapsed:  5.0min\n",
      "[CV] penalty=l2, C=0.1 ...............................................\n",
      "[LibLinear][CV] ...................... penalty=l2, C=0.1, score=0.833238 -   0.6s\n",
      "[Parallel(n_jobs=1)]: Done 115 jobs       | elapsed:  5.0min\n",
      "[CV] penalty=l2, C=0.1 ...............................................\n",
      "[LibLinear][CV] ...................... penalty=l2, C=0.1, score=0.833404 -   0.7s\n",
      "[Parallel(n_jobs=1)]: Done 116 jobs       | elapsed:  5.0min\n",
      "[CV] penalty=l2, C=0.1 ...............................................\n",
      "[LibLinear][CV] ...................... penalty=l2, C=0.1, score=0.841626 -   0.6s\n",
      "[Parallel(n_jobs=1)]: Done 117 jobs       | elapsed:  5.0min\n",
      "[CV] penalty=l2, C=0.1 ...............................................\n",
      "[LibLinear][CV] ...................... penalty=l2, C=0.1, score=0.827916 -   0.6s\n",
      "[Parallel(n_jobs=1)]: Done 118 jobs       | elapsed:  5.1min\n",
      "[CV] penalty=l2, C=0.1 ...............................................\n",
      "[LibLinear][CV] ...................... penalty=l2, C=0.1, score=0.821795 -   0.7s\n",
      "[Parallel(n_jobs=1)]: Done 119 jobs       | elapsed:  5.1min\n",
      "[CV] penalty=l2, C=0.1 ...............................................\n",
      "[LibLinear][CV] ...................... penalty=l2, C=0.1, score=0.839271 -   0.7s\n",
      "[Parallel(n_jobs=1)]: Done 120 jobs       | elapsed:  5.1min\n",
      "[CV] penalty=l1, C=0.05 ..............................................\n",
      "[LibLinear][CV] ..................... penalty=l1, C=0.05, score=0.832951 -   0.3s\n",
      "[Parallel(n_jobs=1)]: Done 121 jobs       | elapsed:  5.1min\n",
      "[CV] penalty=l1, C=0.05 ..............................................\n",
      "[LibLinear][CV] ..................... penalty=l1, C=0.05, score=0.832542 -   0.3s\n",
      "[Parallel(n_jobs=1)]: Done 122 jobs       | elapsed:  5.1min\n",
      "[CV] penalty=l1, C=0.05 ..............................................\n",
      "[LibLinear][CV] ..................... penalty=l1, C=0.05, score=0.830897 -   0.3s\n",
      "[Parallel(n_jobs=1)]: Done 123 jobs       | elapsed:  5.1min\n",
      "[CV] penalty=l1, C=0.05 ..............................................\n",
      "[LibLinear][CV] ..................... penalty=l1, C=0.05, score=0.833118 -   0.4s\n",
      "[Parallel(n_jobs=1)]: Done 124 jobs       | elapsed:  5.1min\n",
      "[CV] penalty=l1, C=0.05 ..............................................\n",
      "[LibLinear][CV] ..................... penalty=l1, C=0.05, score=0.832760 -   0.4s\n",
      "[Parallel(n_jobs=1)]: Done 125 jobs       | elapsed:  5.1min\n",
      "[CV] penalty=l1, C=0.05 ..............................................\n",
      "[LibLinear][CV] ..................... penalty=l1, C=0.05, score=0.832941 -   0.2s\n",
      "[Parallel(n_jobs=1)]: Done 126 jobs       | elapsed:  5.1min\n",
      "[CV] penalty=l1, C=0.05 ..............................................\n",
      "[LibLinear][CV] ..................... penalty=l1, C=0.05, score=0.841318 -   0.3s\n",
      "[Parallel(n_jobs=1)]: Done 127 jobs       | elapsed:  5.1min\n",
      "[CV] penalty=l1, C=0.05 ..............................................\n",
      "[LibLinear][CV] ..................... penalty=l1, C=0.05, score=0.828343 -   0.3s\n",
      "[Parallel(n_jobs=1)]: Done 128 jobs       | elapsed:  5.1min\n",
      "[CV] penalty=l1, C=0.05 ..............................................\n",
      "[LibLinear][CV] ..................... penalty=l1, C=0.05, score=0.821348 -   0.4s\n",
      "[Parallel(n_jobs=1)]: Done 129 jobs       | elapsed:  5.1min\n",
      "[CV] penalty=l1, C=0.05 ..............................................\n",
      "[LibLinear][CV] ..................... penalty=l1, C=0.05, score=0.838908 -   0.4s\n",
      "[Parallel(n_jobs=1)]: Done 130 jobs       | elapsed:  5.2min\n",
      "[CV] penalty=l2, C=0.05 ..............................................\n",
      "[LibLinear][CV] ..................... penalty=l2, C=0.05, score=0.832934 -   0.6s\n",
      "[Parallel(n_jobs=1)]: Done 131 jobs       | elapsed:  5.2min\n",
      "[CV] penalty=l2, C=0.05 ..............................................\n",
      "[LibLinear][CV] ..................... penalty=l2, C=0.05, score=0.832293 -   0.6s\n",
      "[Parallel(n_jobs=1)]: Done 132 jobs       | elapsed:  5.2min\n",
      "[CV] penalty=l2, C=0.05 ..............................................\n",
      "[LibLinear][CV] ..................... penalty=l2, C=0.05, score=0.824406 -   0.5s\n",
      "[Parallel(n_jobs=1)]: Done 133 jobs       | elapsed:  5.2min\n",
      "[CV] penalty=l2, C=0.05 ..............................................\n",
      "[LibLinear][CV] ..................... penalty=l2, C=0.05, score=0.834049 -   0.6s\n",
      "[Parallel(n_jobs=1)]: Done 134 jobs       | elapsed:  5.2min\n",
      "[CV] penalty=l2, C=0.05 ..............................................\n",
      "[LibLinear][CV] ..................... penalty=l2, C=0.05, score=0.833057 -   0.6s\n",
      "[Parallel(n_jobs=1)]: Done 135 jobs       | elapsed:  5.2min\n",
      "[CV] penalty=l2, C=0.05 ..............................................\n",
      "[LibLinear][CV] ..................... penalty=l2, C=0.05, score=0.833309 -   0.7s\n",
      "[Parallel(n_jobs=1)]: Done 136 jobs       | elapsed:  5.2min\n",
      "[CV] penalty=l2, C=0.05 ..............................................\n",
      "[LibLinear][CV] ..................... penalty=l2, C=0.05, score=0.840553 -   0.6s\n",
      "[Parallel(n_jobs=1)]: Done 137 jobs       | elapsed:  5.2min\n",
      "[CV] penalty=l2, C=0.05 ..............................................\n",
      "[LibLinear][CV] ..................... penalty=l2, C=0.05, score=0.828724 -   0.7s\n",
      "[Parallel(n_jobs=1)]: Done 138 jobs       | elapsed:  5.3min\n",
      "[CV] penalty=l2, C=0.05 ..............................................\n",
      "[LibLinear][CV] ..................... penalty=l2, C=0.05, score=0.821232 -   0.6s\n",
      "[Parallel(n_jobs=1)]: Done 139 jobs       | elapsed:  5.3min\n",
      "[CV] penalty=l2, C=0.05 ..............................................\n",
      "[LibLinear][CV] ..................... penalty=l2, C=0.05, score=0.835226 -   0.7s\n",
      "[Parallel(n_jobs=1)]: Done 140 jobs       | elapsed:  5.3min\n",
      "[CV] penalty=l1, C=0.01 ..............................................\n",
      "[LibLinear][CV] ..................... penalty=l1, C=0.01, score=0.830531 -   0.3s\n",
      "[Parallel(n_jobs=1)]: Done 141 jobs       | elapsed:  5.3min\n",
      "[CV] penalty=l1, C=0.01 ..............................................\n",
      "[LibLinear][CV] ..................... penalty=l1, C=0.01, score=0.830739 -   0.3s\n",
      "[Parallel(n_jobs=1)]: Done 142 jobs       | elapsed:  5.3min\n",
      "[CV] penalty=l1, C=0.01 ..............................................\n",
      "[LibLinear][CV] ..................... penalty=l1, C=0.01, score=0.828044 -   0.2s\n",
      "[Parallel(n_jobs=1)]: Done 143 jobs       | elapsed:  5.3min\n",
      "[CV] penalty=l1, C=0.01 ..............................................\n",
      "[LibLinear][CV] ..................... penalty=l1, C=0.01, score=0.831061 -   0.2s\n",
      "[Parallel(n_jobs=1)]: Done 144 jobs       | elapsed:  5.3min\n",
      "[CV] penalty=l1, C=0.01 ..............................................\n",
      "[LibLinear][CV] ..................... penalty=l1, C=0.01, score=0.830772 -   0.3s\n",
      "[Parallel(n_jobs=1)]: Done 145 jobs       | elapsed:  5.3min\n",
      "[CV] penalty=l1, C=0.01 ..............................................\n",
      "[LibLinear][CV] ..................... penalty=l1, C=0.01, score=0.831079 -   0.3s\n",
      "[Parallel(n_jobs=1)]: Done 146 jobs       | elapsed:  5.3min\n",
      "[CV] penalty=l1, C=0.01 ..............................................\n",
      "[LibLinear][CV] ..................... penalty=l1, C=0.01, score=0.838779 -   0.2s\n",
      "[Parallel(n_jobs=1)]: Done 147 jobs       | elapsed:  5.3min\n",
      "[CV] penalty=l1, C=0.01 ..............................................\n",
      "[LibLinear][CV] ..................... penalty=l1, C=0.01, score=0.826476 -   0.3s\n",
      "[Parallel(n_jobs=1)]: Done 148 jobs       | elapsed:  5.3min\n",
      "[CV] penalty=l1, C=0.01 ..............................................\n",
      "[LibLinear][CV] ..................... penalty=l1, C=0.01, score=0.819683 -   0.3s\n",
      "[Parallel(n_jobs=1)]: Done 149 jobs       | elapsed:  5.3min\n",
      "[CV] penalty=l1, C=0.01 ..............................................\n",
      "[LibLinear][CV] ..................... penalty=l1, C=0.01, score=0.837019 -   0.3s\n",
      "[Parallel(n_jobs=1)]: Done 150 jobs       | elapsed:  5.4min\n",
      "[CV] penalty=l2, C=0.01 ..............................................\n",
      "[LibLinear][CV] ..................... penalty=l2, C=0.01, score=0.831929 -   0.6s\n",
      "[Parallel(n_jobs=1)]: Done 151 jobs       | elapsed:  5.4min\n",
      "[CV] penalty=l2, C=0.01 ..............................................\n",
      "[LibLinear][CV] ..................... penalty=l2, C=0.01, score=0.830880 -   0.7s\n",
      "[Parallel(n_jobs=1)]: Done 152 jobs       | elapsed:  5.4min\n",
      "[CV] penalty=l2, C=0.01 ..............................................\n",
      "[LibLinear][CV] ..................... penalty=l2, C=0.01, score=0.823198 -   0.6s\n",
      "[Parallel(n_jobs=1)]: Done 153 jobs       | elapsed:  5.4min\n",
      "[CV] penalty=l2, C=0.01 ..............................................\n",
      "[LibLinear][CV] ..................... penalty=l2, C=0.01, score=0.827926 -   0.6s\n",
      "[Parallel(n_jobs=1)]: Done 154 jobs       | elapsed:  5.4min\n",
      "[CV] penalty=l2, C=0.01 ..............................................\n",
      "[LibLinear][CV] ..................... penalty=l2, C=0.01, score=0.832798 -   0.6s\n",
      "[Parallel(n_jobs=1)]: Done 155 jobs       | elapsed:  5.4min\n",
      "[CV] penalty=l2, C=0.01 ..............................................\n",
      "[LibLinear][CV] ..................... penalty=l2, C=0.01, score=0.831815 -   0.7s\n",
      "[Parallel(n_jobs=1)]: Done 156 jobs       | elapsed:  5.4min\n",
      "[CV] penalty=l2, C=0.01 ..............................................\n",
      "[LibLinear][CV] ..................... penalty=l2, C=0.01, score=0.839307 -   0.7s\n",
      "[Parallel(n_jobs=1)]: Done 157 jobs       | elapsed:  5.4min\n",
      "[CV] penalty=l2, C=0.01 ..............................................\n",
      "[LibLinear][CV] ..................... penalty=l2, C=0.01, score=0.825664 -   0.8s\n",
      "[Parallel(n_jobs=1)]: Done 158 jobs       | elapsed:  5.5min\n",
      "[CV] penalty=l2, C=0.01 ..............................................\n",
      "[LibLinear][CV] ..................... penalty=l2, C=0.01, score=0.819676 -   0.7s\n",
      "[Parallel(n_jobs=1)]: Done 159 jobs       | elapsed:  5.5min\n",
      "[CV] penalty=l2, C=0.01 ..............................................\n",
      "[LibLinear][CV] ..................... penalty=l2, C=0.01, score=0.831758 -   0.5s\n",
      "[Parallel(n_jobs=1)]: Done 160 jobs       | elapsed:  5.5min\n",
      "[CV] penalty=l1, C=0.005 .............................................\n",
      "[LibLinear][CV] .................... penalty=l1, C=0.005, score=0.825782 -   0.3s\n",
      "[Parallel(n_jobs=1)]: Done 161 jobs       | elapsed:  5.5min\n",
      "[CV] penalty=l1, C=0.005 .............................................\n",
      "[LibLinear][CV] .................... penalty=l1, C=0.005, score=0.826654 -   0.3s\n",
      "[Parallel(n_jobs=1)]: Done 162 jobs       | elapsed:  5.5min\n",
      "[CV] penalty=l1, C=0.005 .............................................\n",
      "[LibLinear][CV] .................... penalty=l1, C=0.005, score=0.822992 -   0.3s\n",
      "[Parallel(n_jobs=1)]: Done 163 jobs       | elapsed:  5.5min\n",
      "[CV] penalty=l1, C=0.005 .............................................\n",
      "[LibLinear][CV] .................... penalty=l1, C=0.005, score=0.827040 -   0.2s\n",
      "[Parallel(n_jobs=1)]: Done 164 jobs       | elapsed:  5.5min\n",
      "[CV] penalty=l1, C=0.005 .............................................\n",
      "[LibLinear][CV] .................... penalty=l1, C=0.005, score=0.826992 -   0.2s\n",
      "[Parallel(n_jobs=1)]: Done 165 jobs       | elapsed:  5.5min\n",
      "[CV] penalty=l1, C=0.005 .............................................\n",
      "[LibLinear][CV] .................... penalty=l1, C=0.005, score=0.827146 -   0.2s\n",
      "[Parallel(n_jobs=1)]: Done 166 jobs       | elapsed:  5.5min\n",
      "[CV] penalty=l1, C=0.005 .............................................\n",
      "[LibLinear][CV] .................... penalty=l1, C=0.005, score=0.834290 -   0.3s\n",
      "[Parallel(n_jobs=1)]: Done 167 jobs       | elapsed:  5.5min\n",
      "[CV] penalty=l1, C=0.005 .............................................\n",
      "[LibLinear][CV] .................... penalty=l1, C=0.005, score=0.822493 -   0.3s\n",
      "[Parallel(n_jobs=1)]: Done 168 jobs       | elapsed:  5.5min\n",
      "[CV] penalty=l1, C=0.005 .............................................\n",
      "[LibLinear][CV] .................... penalty=l1, C=0.005, score=0.816019 -   0.3s\n",
      "[Parallel(n_jobs=1)]: Done 169 jobs       | elapsed:  5.5min\n",
      "[CV] penalty=l1, C=0.005 .............................................\n",
      "[LibLinear][CV] .................... penalty=l1, C=0.005, score=0.832804 -   0.3s\n",
      "[Parallel(n_jobs=1)]: Done 170 jobs       | elapsed:  5.5min\n",
      "[CV] penalty=l2, C=0.005 .............................................\n",
      "[LibLinear][CV] .................... penalty=l2, C=0.005, score=0.829041 -   0.6s\n",
      "[Parallel(n_jobs=1)]: Done 171 jobs       | elapsed:  5.6min\n",
      "[CV] penalty=l2, C=0.005 .............................................\n",
      "[LibLinear][CV] .................... penalty=l2, C=0.005, score=0.827880 -   0.6s\n",
      "[Parallel(n_jobs=1)]: Done 172 jobs       | elapsed:  5.6min\n",
      "[CV] penalty=l2, C=0.005 .............................................\n",
      "[LibLinear][CV] .................... penalty=l2, C=0.005, score=0.826699 -   0.6s\n",
      "[Parallel(n_jobs=1)]: Done 173 jobs       | elapsed:  5.6min\n",
      "[CV] penalty=l2, C=0.005 .............................................\n",
      "[LibLinear][CV] .................... penalty=l2, C=0.005, score=0.827792 -   0.5s\n",
      "[Parallel(n_jobs=1)]: Done 174 jobs       | elapsed:  5.6min\n",
      "[CV] penalty=l2, C=0.005 .............................................\n",
      "[LibLinear][CV] .................... penalty=l2, C=0.005, score=0.827757 -   0.5s\n",
      "[Parallel(n_jobs=1)]: Done 175 jobs       | elapsed:  5.6min\n",
      "[CV] penalty=l2, C=0.005 .............................................\n",
      "[LibLinear][CV] .................... penalty=l2, C=0.005, score=0.829595 -   0.6s\n",
      "[Parallel(n_jobs=1)]: Done 176 jobs       | elapsed:  5.6min\n",
      "[CV] penalty=l2, C=0.005 .............................................\n",
      "[LibLinear][CV] .................... penalty=l2, C=0.005, score=0.836785 -   0.6s\n",
      "[Parallel(n_jobs=1)]: Done 177 jobs       | elapsed:  5.6min\n",
      "[CV] penalty=l2, C=0.005 .............................................\n",
      "[LibLinear][CV] .................... penalty=l2, C=0.005, score=0.824977 -   0.5s\n",
      "[Parallel(n_jobs=1)]: Done 178 jobs       | elapsed:  5.6min\n",
      "[CV] penalty=l2, C=0.005 .............................................\n",
      "[LibLinear][CV] .................... penalty=l2, C=0.005, score=0.817599 -   0.7s\n",
      "[Parallel(n_jobs=1)]: Done 179 jobs       | elapsed:  5.7min\n",
      "[CV] penalty=l2, C=0.005 .............................................\n",
      "[LibLinear][CV] .................... penalty=l2, C=0.005, score=0.835017 -   0.6s\n",
      "[Parallel(n_jobs=1)]: Done 180 jobs       | elapsed:  5.7min\n",
      "[CV] penalty=l1, C=0.001 .............................................\n",
      "[LibLinear][CV] .................... penalty=l1, C=0.001, score=0.725420 -   0.2s\n",
      "[Parallel(n_jobs=1)]: Done 181 jobs       | elapsed:  5.7min\n",
      "[CV] penalty=l1, C=0.001 .............................................\n",
      "[LibLinear][CV] .................... penalty=l1, C=0.001, score=0.726646 -   0.2s\n",
      "[Parallel(n_jobs=1)]: Done 182 jobs       | elapsed:  5.7min\n",
      "[CV] penalty=l1, C=0.001 .............................................\n",
      "[LibLinear][CV] .................... penalty=l1, C=0.001, score=0.724645 -   0.2s\n",
      "[Parallel(n_jobs=1)]: Done 183 jobs       | elapsed:  5.7min\n",
      "[CV] penalty=l1, C=0.001 .............................................\n",
      "[LibLinear][CV] .................... penalty=l1, C=0.001, score=0.729937 -   0.2s\n",
      "[Parallel(n_jobs=1)]: Done 184 jobs       | elapsed:  5.7min\n",
      "[CV] penalty=l1, C=0.001 .............................................\n",
      "[LibLinear][CV] .................... penalty=l1, C=0.001, score=0.730785 -   0.2s\n",
      "[Parallel(n_jobs=1)]: Done 185 jobs       | elapsed:  5.7min\n",
      "[CV] penalty=l1, C=0.001 .............................................\n",
      "[LibLinear][CV] .................... penalty=l1, C=0.001, score=0.729151 -   0.2s\n",
      "[Parallel(n_jobs=1)]: Done 186 jobs       | elapsed:  5.7min\n",
      "[CV] penalty=l1, C=0.001 .............................................\n",
      "[LibLinear][CV] .................... penalty=l1, C=0.001, score=0.738535 -   0.3s\n",
      "[Parallel(n_jobs=1)]: Done 187 jobs       | elapsed:  5.7min\n",
      "[CV] penalty=l1, C=0.001 .............................................\n",
      "[LibLinear][CV] .................... penalty=l1, C=0.001, score=0.727227 -   0.2s\n",
      "[Parallel(n_jobs=1)]: Done 188 jobs       | elapsed:  5.7min\n",
      "[CV] penalty=l1, C=0.001 .............................................\n",
      "[LibLinear][CV] .................... penalty=l1, C=0.001, score=0.724344 -   0.2s\n",
      "[Parallel(n_jobs=1)]: Done 189 jobs       | elapsed:  5.7min\n",
      "[CV] penalty=l1, C=0.001 .............................................\n",
      "[LibLinear][CV] .................... penalty=l1, C=0.001, score=0.731879 -   0.2s\n",
      "[Parallel(n_jobs=1)]: Done 190 jobs       | elapsed:  5.7min\n",
      "[CV] penalty=l2, C=0.001 .............................................\n",
      "[LibLinear][CV] .................... penalty=l2, C=0.001, score=0.800647 -   0.5s\n",
      "[Parallel(n_jobs=1)]: Done 191 jobs       | elapsed:  5.7min\n",
      "[CV] penalty=l2, C=0.001 .............................................\n",
      "[LibLinear][CV] .................... penalty=l2, C=0.001, score=0.786213 -   0.5s\n",
      "[Parallel(n_jobs=1)]: Done 192 jobs       | elapsed:  5.7min\n",
      "[CV] penalty=l2, C=0.001 .............................................\n",
      "[LibLinear][CV] .................... penalty=l2, C=0.001, score=0.784276 -   0.5s\n",
      "[Parallel(n_jobs=1)]: Done 193 jobs       | elapsed:  5.8min\n",
      "[CV] penalty=l2, C=0.001 .............................................\n",
      "[LibLinear][CV] .................... penalty=l2, C=0.001, score=0.790275 -   0.4s\n",
      "[Parallel(n_jobs=1)]: Done 194 jobs       | elapsed:  5.8min\n",
      "[CV] penalty=l2, C=0.001 .............................................\n",
      "[LibLinear][CV] .................... penalty=l2, C=0.001, score=0.790880 -   0.5s\n",
      "[Parallel(n_jobs=1)]: Done 195 jobs       | elapsed:  5.8min\n",
      "[CV] penalty=l2, C=0.001 .............................................\n",
      "[LibLinear][CV] .................... penalty=l2, C=0.001, score=0.803138 -   0.6s\n",
      "[Parallel(n_jobs=1)]: Done 196 jobs       | elapsed:  5.8min\n",
      "[CV] penalty=l2, C=0.001 .............................................\n",
      "[LibLinear][CV] .................... penalty=l2, C=0.001, score=0.811412 -   0.5s\n",
      "[Parallel(n_jobs=1)]: Done 197 jobs       | elapsed:  5.8min\n",
      "[CV] penalty=l2, C=0.001 .............................................\n",
      "[LibLinear][CV] .................... penalty=l2, C=0.001, score=0.798744 -   0.5s\n",
      "[Parallel(n_jobs=1)]: Done 198 jobs       | elapsed:  5.8min\n",
      "[CV] penalty=l2, C=0.001 .............................................\n",
      "[LibLinear][CV] .................... penalty=l2, C=0.001, score=0.789225 -   0.5s\n",
      "[Parallel(n_jobs=1)]: Done 199 jobs       | elapsed:  5.8min\n",
      "[CV] penalty=l2, C=0.001 .............................................\n",
      "[LibLinear][CV] .................... penalty=l2, C=0.001, score=0.810623 -   0.5s\n",
      "[Parallel(n_jobs=1)]: Done 200 jobs       | elapsed:  5.8min\n",
      "[Parallel(n_jobs=1)]: Done 200 out of 200 | elapsed:  5.8min finished\n",
      "[LibLinear]0.833100262309\n"
     ]
    }
   ],
   "source": [
    "GS.fit(dev,dv)\n",
    "print(GS.best_score_)"
   ]
  },
  {
   "cell_type": "code",
   "execution_count": 90,
   "metadata": {},
   "outputs": [
    {
     "name": "stdout",
     "output_type": "stream",
     "text": [
      "{'penalty': 'l1', 'C': 0.8}\n"
     ]
    }
   ],
   "source": [
    "print(GS.best_params_)"
   ]
  },
  {
   "cell_type": "code",
   "execution_count": null,
   "metadata": {
    "collapsed": true
   },
   "outputs": [],
   "source": [
    "LogisticRegression('l1',class_weight='auto',verbose=1,random_state=1615)"
   ]
  },
  {
   "cell_type": "markdown",
   "metadata": {},
   "source": [
    "#### RandomForest"
   ]
  },
  {
   "cell_type": "code",
   "execution_count": 96,
   "metadata": {
    "collapsed": true
   },
   "outputs": [],
   "source": [
    "from sklearn.ensemble import RandomForestClassifier\n",
    "sss = StratifiedShuffleSplit(dv,10,test_size=0.35,random_state=3492)\n",
    "model2 = RandomForestClassifier(random_state=2551,n_jobs=-1)\n",
    "GS2 = GridSearchCV(model2,{'min_samples_leaf':[100],'max_depth':[10,11,12],'max_features':[0.6],'criterion':[\"gini\"],\n",
    "                  'n_estimators':[200,300,400]},scoring='roc_auc',cv=sss,verbose=10000)"
   ]
  },
  {
   "cell_type": "code",
   "execution_count": 97,
   "metadata": {},
   "outputs": [
    {
     "name": "stdout",
     "output_type": "stream",
     "text": [
      "Fitting 10 folds for each of 9 candidates, totalling 90 fits\n",
      "[CV] max_depth=10, criterion=gini, max_features=0.6, n_estimators=200, min_samples_leaf=100 \n",
      "[CV]  max_depth=10, criterion=gini, max_features=0.6, n_estimators=200, min_samples_leaf=100, score=0.839266 -   4.9s\n",
      "[Parallel(n_jobs=1)]: Done   1 jobs       | elapsed:    4.9s\n",
      "[CV] max_depth=10, criterion=gini, max_features=0.6, n_estimators=200, min_samples_leaf=100 \n",
      "[CV]  max_depth=10, criterion=gini, max_features=0.6, n_estimators=200, min_samples_leaf=100, score=0.841871 -   4.8s\n",
      "[Parallel(n_jobs=1)]: Done   2 jobs       | elapsed:    9.9s\n",
      "[CV] max_depth=10, criterion=gini, max_features=0.6, n_estimators=200, min_samples_leaf=100 \n",
      "[CV]  max_depth=10, criterion=gini, max_features=0.6, n_estimators=200, min_samples_leaf=100, score=0.842079 -   4.8s\n",
      "[Parallel(n_jobs=1)]: Done   3 jobs       | elapsed:   14.9s\n",
      "[CV] max_depth=10, criterion=gini, max_features=0.6, n_estimators=200, min_samples_leaf=100 \n",
      "[CV]  max_depth=10, criterion=gini, max_features=0.6, n_estimators=200, min_samples_leaf=100, score=0.842621 -   4.9s\n",
      "[Parallel(n_jobs=1)]: Done   4 jobs       | elapsed:   19.9s\n",
      "[CV] max_depth=10, criterion=gini, max_features=0.6, n_estimators=200, min_samples_leaf=100 \n",
      "[CV]  max_depth=10, criterion=gini, max_features=0.6, n_estimators=200, min_samples_leaf=100, score=0.843408 -   4.8s\n",
      "[Parallel(n_jobs=1)]: Done   5 jobs       | elapsed:   24.8s\n",
      "[CV] max_depth=10, criterion=gini, max_features=0.6, n_estimators=200, min_samples_leaf=100 \n",
      "[CV]  max_depth=10, criterion=gini, max_features=0.6, n_estimators=200, min_samples_leaf=100, score=0.843993 -   5.3s\n",
      "[Parallel(n_jobs=1)]: Done   6 jobs       | elapsed:   30.2s\n",
      "[CV] max_depth=10, criterion=gini, max_features=0.6, n_estimators=200, min_samples_leaf=100 \n",
      "[CV]  max_depth=10, criterion=gini, max_features=0.6, n_estimators=200, min_samples_leaf=100, score=0.848563 -   5.6s\n",
      "[Parallel(n_jobs=1)]: Done   7 jobs       | elapsed:   35.9s\n",
      "[CV] max_depth=10, criterion=gini, max_features=0.6, n_estimators=200, min_samples_leaf=100 \n",
      "[CV]  max_depth=10, criterion=gini, max_features=0.6, n_estimators=200, min_samples_leaf=100, score=0.836154 -   5.9s\n",
      "[Parallel(n_jobs=1)]: Done   8 jobs       | elapsed:   41.9s\n",
      "[CV] max_depth=10, criterion=gini, max_features=0.6, n_estimators=200, min_samples_leaf=100 \n",
      "[CV]  max_depth=10, criterion=gini, max_features=0.6, n_estimators=200, min_samples_leaf=100, score=0.829464 -   5.8s\n",
      "[Parallel(n_jobs=1)]: Done   9 jobs       | elapsed:   47.9s\n",
      "[CV] max_depth=10, criterion=gini, max_features=0.6, n_estimators=200, min_samples_leaf=100 \n",
      "[CV]  max_depth=10, criterion=gini, max_features=0.6, n_estimators=200, min_samples_leaf=100, score=0.844298 -   5.7s\n",
      "[Parallel(n_jobs=1)]: Done  10 jobs       | elapsed:   53.8s\n",
      "[CV] max_depth=10, criterion=gini, max_features=0.6, n_estimators=300, min_samples_leaf=100 \n",
      "[CV]  max_depth=10, criterion=gini, max_features=0.6, n_estimators=300, min_samples_leaf=100, score=0.839169 -   8.4s\n",
      "[Parallel(n_jobs=1)]: Done  11 jobs       | elapsed:  1.0min\n",
      "[CV] max_depth=10, criterion=gini, max_features=0.6, n_estimators=300, min_samples_leaf=100 \n",
      "[CV]  max_depth=10, criterion=gini, max_features=0.6, n_estimators=300, min_samples_leaf=100, score=0.841846 -   8.3s\n",
      "[Parallel(n_jobs=1)]: Done  12 jobs       | elapsed:  1.2min\n",
      "[CV] max_depth=10, criterion=gini, max_features=0.6, n_estimators=300, min_samples_leaf=100 \n",
      "[CV]  max_depth=10, criterion=gini, max_features=0.6, n_estimators=300, min_samples_leaf=100, score=0.842286 -   8.2s\n",
      "[Parallel(n_jobs=1)]: Done  13 jobs       | elapsed:  1.3min\n",
      "[CV] max_depth=10, criterion=gini, max_features=0.6, n_estimators=300, min_samples_leaf=100 \n",
      "[CV]  max_depth=10, criterion=gini, max_features=0.6, n_estimators=300, min_samples_leaf=100, score=0.842621 -   8.3s\n",
      "[Parallel(n_jobs=1)]: Done  14 jobs       | elapsed:  1.5min\n",
      "[CV] max_depth=10, criterion=gini, max_features=0.6, n_estimators=300, min_samples_leaf=100 \n",
      "[CV]  max_depth=10, criterion=gini, max_features=0.6, n_estimators=300, min_samples_leaf=100, score=0.843585 -   8.4s\n",
      "[Parallel(n_jobs=1)]: Done  15 jobs       | elapsed:  1.6min\n",
      "[CV] max_depth=10, criterion=gini, max_features=0.6, n_estimators=300, min_samples_leaf=100 \n",
      "[CV]  max_depth=10, criterion=gini, max_features=0.6, n_estimators=300, min_samples_leaf=100, score=0.844173 -   8.3s\n",
      "[Parallel(n_jobs=1)]: Done  16 jobs       | elapsed:  1.7min\n",
      "[CV] max_depth=10, criterion=gini, max_features=0.6, n_estimators=300, min_samples_leaf=100 \n",
      "[CV]  max_depth=10, criterion=gini, max_features=0.6, n_estimators=300, min_samples_leaf=100, score=0.848759 -   8.2s\n",
      "[Parallel(n_jobs=1)]: Done  17 jobs       | elapsed:  1.9min\n",
      "[CV] max_depth=10, criterion=gini, max_features=0.6, n_estimators=300, min_samples_leaf=100 \n",
      "[CV]  max_depth=10, criterion=gini, max_features=0.6, n_estimators=300, min_samples_leaf=100, score=0.836209 -   8.3s\n",
      "[Parallel(n_jobs=1)]: Done  18 jobs       | elapsed:  2.0min\n",
      "[CV] max_depth=10, criterion=gini, max_features=0.6, n_estimators=300, min_samples_leaf=100 \n",
      "[CV]  max_depth=10, criterion=gini, max_features=0.6, n_estimators=300, min_samples_leaf=100, score=0.829606 -   8.3s\n",
      "[Parallel(n_jobs=1)]: Done  19 jobs       | elapsed:  2.2min\n",
      "[CV] max_depth=10, criterion=gini, max_features=0.6, n_estimators=300, min_samples_leaf=100 \n",
      "[CV]  max_depth=10, criterion=gini, max_features=0.6, n_estimators=300, min_samples_leaf=100, score=0.844457 -   8.3s\n",
      "[Parallel(n_jobs=1)]: Done  20 jobs       | elapsed:  2.3min\n",
      "[CV] max_depth=10, criterion=gini, max_features=0.6, n_estimators=400, min_samples_leaf=100 \n",
      "[CV]  max_depth=10, criterion=gini, max_features=0.6, n_estimators=400, min_samples_leaf=100, score=0.839326 -  11.1s\n",
      "[Parallel(n_jobs=1)]: Done  21 jobs       | elapsed:  2.5min\n",
      "[CV] max_depth=10, criterion=gini, max_features=0.6, n_estimators=400, min_samples_leaf=100 \n",
      "[CV]  max_depth=10, criterion=gini, max_features=0.6, n_estimators=400, min_samples_leaf=100, score=0.841830 -  11.0s\n",
      "[Parallel(n_jobs=1)]: Done  22 jobs       | elapsed:  2.7min\n",
      "[CV] max_depth=10, criterion=gini, max_features=0.6, n_estimators=400, min_samples_leaf=100 \n",
      "[CV]  max_depth=10, criterion=gini, max_features=0.6, n_estimators=400, min_samples_leaf=100, score=0.842188 -  11.0s\n",
      "[Parallel(n_jobs=1)]: Done  23 jobs       | elapsed:  2.9min\n",
      "[CV] max_depth=10, criterion=gini, max_features=0.6, n_estimators=400, min_samples_leaf=100 \n",
      "[CV]  max_depth=10, criterion=gini, max_features=0.6, n_estimators=400, min_samples_leaf=100, score=0.842555 -  11.3s\n",
      "[Parallel(n_jobs=1)]: Done  24 jobs       | elapsed:  3.1min\n",
      "[CV] max_depth=10, criterion=gini, max_features=0.6, n_estimators=400, min_samples_leaf=100 \n",
      "[CV]  max_depth=10, criterion=gini, max_features=0.6, n_estimators=400, min_samples_leaf=100, score=0.843567 -  11.2s\n",
      "[Parallel(n_jobs=1)]: Done  25 jobs       | elapsed:  3.2min\n",
      "[CV] max_depth=10, criterion=gini, max_features=0.6, n_estimators=400, min_samples_leaf=100 \n",
      "[CV]  max_depth=10, criterion=gini, max_features=0.6, n_estimators=400, min_samples_leaf=100, score=0.843986 -  11.3s\n",
      "[Parallel(n_jobs=1)]: Done  26 jobs       | elapsed:  3.4min\n",
      "[CV] max_depth=10, criterion=gini, max_features=0.6, n_estimators=400, min_samples_leaf=100 \n",
      "[CV]  max_depth=10, criterion=gini, max_features=0.6, n_estimators=400, min_samples_leaf=100, score=0.848849 -  11.5s\n",
      "[Parallel(n_jobs=1)]: Done  27 jobs       | elapsed:  3.6min\n",
      "[CV] max_depth=10, criterion=gini, max_features=0.6, n_estimators=400, min_samples_leaf=100 \n",
      "[CV]  max_depth=10, criterion=gini, max_features=0.6, n_estimators=400, min_samples_leaf=100, score=0.836217 -  11.3s\n",
      "[Parallel(n_jobs=1)]: Done  28 jobs       | elapsed:  3.8min\n",
      "[CV] max_depth=10, criterion=gini, max_features=0.6, n_estimators=400, min_samples_leaf=100 \n",
      "[CV]  max_depth=10, criterion=gini, max_features=0.6, n_estimators=400, min_samples_leaf=100, score=0.829691 -  11.4s\n",
      "[Parallel(n_jobs=1)]: Done  29 jobs       | elapsed:  4.0min\n",
      "[CV] max_depth=10, criterion=gini, max_features=0.6, n_estimators=400, min_samples_leaf=100 \n",
      "[CV]  max_depth=10, criterion=gini, max_features=0.6, n_estimators=400, min_samples_leaf=100, score=0.844495 -  11.3s\n",
      "[Parallel(n_jobs=1)]: Done  30 jobs       | elapsed:  4.2min\n",
      "[CV] max_depth=11, criterion=gini, max_features=0.6, n_estimators=200, min_samples_leaf=100 \n",
      "[CV]  max_depth=11, criterion=gini, max_features=0.6, n_estimators=200, min_samples_leaf=100, score=0.839116 -   5.9s\n",
      "[Parallel(n_jobs=1)]: Done  31 jobs       | elapsed:  4.3min\n",
      "[CV] max_depth=11, criterion=gini, max_features=0.6, n_estimators=200, min_samples_leaf=100 \n",
      "[CV]  max_depth=11, criterion=gini, max_features=0.6, n_estimators=200, min_samples_leaf=100, score=0.841472 -   5.9s\n",
      "[Parallel(n_jobs=1)]: Done  32 jobs       | elapsed:  4.4min\n",
      "[CV] max_depth=11, criterion=gini, max_features=0.6, n_estimators=200, min_samples_leaf=100 \n",
      "[CV]  max_depth=11, criterion=gini, max_features=0.6, n_estimators=200, min_samples_leaf=100, score=0.841597 -   6.0s\n",
      "[Parallel(n_jobs=1)]: Done  33 jobs       | elapsed:  4.5min\n",
      "[CV] max_depth=11, criterion=gini, max_features=0.6, n_estimators=200, min_samples_leaf=100 \n",
      "[CV]  max_depth=11, criterion=gini, max_features=0.6, n_estimators=200, min_samples_leaf=100, score=0.842592 -   6.1s\n",
      "[Parallel(n_jobs=1)]: Done  34 jobs       | elapsed:  4.6min\n",
      "[CV] max_depth=11, criterion=gini, max_features=0.6, n_estimators=200, min_samples_leaf=100 \n",
      "[CV]  max_depth=11, criterion=gini, max_features=0.6, n_estimators=200, min_samples_leaf=100, score=0.843554 -   6.3s\n",
      "[Parallel(n_jobs=1)]: Done  35 jobs       | elapsed:  4.7min\n",
      "[CV] max_depth=11, criterion=gini, max_features=0.6, n_estimators=200, min_samples_leaf=100 \n",
      "[CV]  max_depth=11, criterion=gini, max_features=0.6, n_estimators=200, min_samples_leaf=100, score=0.843955 -   6.1s\n",
      "[Parallel(n_jobs=1)]: Done  36 jobs       | elapsed:  4.8min\n",
      "[CV] max_depth=11, criterion=gini, max_features=0.6, n_estimators=200, min_samples_leaf=100 \n",
      "[CV]  max_depth=11, criterion=gini, max_features=0.6, n_estimators=200, min_samples_leaf=100, score=0.848341 -   6.1s\n",
      "[Parallel(n_jobs=1)]: Done  37 jobs       | elapsed:  4.9min\n",
      "[CV] max_depth=11, criterion=gini, max_features=0.6, n_estimators=200, min_samples_leaf=100 \n",
      "[CV]  max_depth=11, criterion=gini, max_features=0.6, n_estimators=200, min_samples_leaf=100, score=0.836060 -   6.3s\n",
      "[Parallel(n_jobs=1)]: Done  38 jobs       | elapsed:  5.0min\n",
      "[CV] max_depth=11, criterion=gini, max_features=0.6, n_estimators=200, min_samples_leaf=100 \n",
      "[CV]  max_depth=11, criterion=gini, max_features=0.6, n_estimators=200, min_samples_leaf=100, score=0.829841 -   6.9s\n",
      "[Parallel(n_jobs=1)]: Done  39 jobs       | elapsed:  5.2min\n",
      "[CV] max_depth=11, criterion=gini, max_features=0.6, n_estimators=200, min_samples_leaf=100 \n",
      "[CV]  max_depth=11, criterion=gini, max_features=0.6, n_estimators=200, min_samples_leaf=100, score=0.844214 -   6.2s\n",
      "[Parallel(n_jobs=1)]: Done  40 jobs       | elapsed:  5.3min\n",
      "[CV] max_depth=11, criterion=gini, max_features=0.6, n_estimators=300, min_samples_leaf=100 \n",
      "[CV]  max_depth=11, criterion=gini, max_features=0.6, n_estimators=300, min_samples_leaf=100, score=0.839108 -   9.1s\n",
      "[Parallel(n_jobs=1)]: Done  41 jobs       | elapsed:  5.4min\n",
      "[CV] max_depth=11, criterion=gini, max_features=0.6, n_estimators=300, min_samples_leaf=100 \n",
      "[CV]  max_depth=11, criterion=gini, max_features=0.6, n_estimators=300, min_samples_leaf=100, score=0.841686 -   9.0s\n",
      "[Parallel(n_jobs=1)]: Done  42 jobs       | elapsed:  5.6min\n",
      "[CV] max_depth=11, criterion=gini, max_features=0.6, n_estimators=300, min_samples_leaf=100 \n",
      "[CV]  max_depth=11, criterion=gini, max_features=0.6, n_estimators=300, min_samples_leaf=100, score=0.841819 -   9.1s\n",
      "[Parallel(n_jobs=1)]: Done  43 jobs       | elapsed:  5.7min\n",
      "[CV] max_depth=11, criterion=gini, max_features=0.6, n_estimators=300, min_samples_leaf=100 \n",
      "[CV]  max_depth=11, criterion=gini, max_features=0.6, n_estimators=300, min_samples_leaf=100, score=0.842614 -   8.8s\n",
      "[Parallel(n_jobs=1)]: Done  44 jobs       | elapsed:  5.9min\n",
      "[CV] max_depth=11, criterion=gini, max_features=0.6, n_estimators=300, min_samples_leaf=100 \n",
      "[CV]  max_depth=11, criterion=gini, max_features=0.6, n_estimators=300, min_samples_leaf=100, score=0.843704 -   8.9s\n",
      "[Parallel(n_jobs=1)]: Done  45 jobs       | elapsed:  6.0min\n",
      "[CV] max_depth=11, criterion=gini, max_features=0.6, n_estimators=300, min_samples_leaf=100 \n",
      "[CV]  max_depth=11, criterion=gini, max_features=0.6, n_estimators=300, min_samples_leaf=100, score=0.843904 -   9.0s\n",
      "[Parallel(n_jobs=1)]: Done  46 jobs       | elapsed:  6.2min\n",
      "[CV] max_depth=11, criterion=gini, max_features=0.6, n_estimators=300, min_samples_leaf=100 \n",
      "[CV]  max_depth=11, criterion=gini, max_features=0.6, n_estimators=300, min_samples_leaf=100, score=0.848394 -   8.8s\n",
      "[Parallel(n_jobs=1)]: Done  47 jobs       | elapsed:  6.3min\n",
      "[CV] max_depth=11, criterion=gini, max_features=0.6, n_estimators=300, min_samples_leaf=100 \n",
      "[CV]  max_depth=11, criterion=gini, max_features=0.6, n_estimators=300, min_samples_leaf=100, score=0.836248 -   9.1s\n",
      "[Parallel(n_jobs=1)]: Done  48 jobs       | elapsed:  6.5min\n",
      "[CV] max_depth=11, criterion=gini, max_features=0.6, n_estimators=300, min_samples_leaf=100 \n",
      "[CV]  max_depth=11, criterion=gini, max_features=0.6, n_estimators=300, min_samples_leaf=100, score=0.829861 -   8.9s\n",
      "[Parallel(n_jobs=1)]: Done  49 jobs       | elapsed:  6.6min\n",
      "[CV] max_depth=11, criterion=gini, max_features=0.6, n_estimators=300, min_samples_leaf=100 \n",
      "[CV]  max_depth=11, criterion=gini, max_features=0.6, n_estimators=300, min_samples_leaf=100, score=0.844172 -   8.9s\n",
      "[Parallel(n_jobs=1)]: Done  50 jobs       | elapsed:  6.8min\n",
      "[CV] max_depth=11, criterion=gini, max_features=0.6, n_estimators=400, min_samples_leaf=100 \n",
      "[CV]  max_depth=11, criterion=gini, max_features=0.6, n_estimators=400, min_samples_leaf=100, score=0.839246 -  11.8s\n",
      "[Parallel(n_jobs=1)]: Done  51 jobs       | elapsed:  7.0min\n",
      "[CV] max_depth=11, criterion=gini, max_features=0.6, n_estimators=400, min_samples_leaf=100 \n",
      "[CV]  max_depth=11, criterion=gini, max_features=0.6, n_estimators=400, min_samples_leaf=100, score=0.841778 -  11.8s\n",
      "[Parallel(n_jobs=1)]: Done  52 jobs       | elapsed:  7.2min\n",
      "[CV] max_depth=11, criterion=gini, max_features=0.6, n_estimators=400, min_samples_leaf=100 \n",
      "[CV]  max_depth=11, criterion=gini, max_features=0.6, n_estimators=400, min_samples_leaf=100, score=0.841727 -  11.6s\n",
      "[Parallel(n_jobs=1)]: Done  53 jobs       | elapsed:  7.4min\n",
      "[CV] max_depth=11, criterion=gini, max_features=0.6, n_estimators=400, min_samples_leaf=100 \n",
      "[CV]  max_depth=11, criterion=gini, max_features=0.6, n_estimators=400, min_samples_leaf=100, score=0.842595 -  11.8s\n",
      "[Parallel(n_jobs=1)]: Done  54 jobs       | elapsed:  7.6min\n",
      "[CV] max_depth=11, criterion=gini, max_features=0.6, n_estimators=400, min_samples_leaf=100 \n",
      "[CV]  max_depth=11, criterion=gini, max_features=0.6, n_estimators=400, min_samples_leaf=100, score=0.843824 -  11.9s\n",
      "[Parallel(n_jobs=1)]: Done  55 jobs       | elapsed:  7.8min\n",
      "[CV] max_depth=11, criterion=gini, max_features=0.6, n_estimators=400, min_samples_leaf=100 \n",
      "[CV]  max_depth=11, criterion=gini, max_features=0.6, n_estimators=400, min_samples_leaf=100, score=0.843886 -  11.8s\n",
      "[Parallel(n_jobs=1)]: Done  56 jobs       | elapsed:  8.0min\n",
      "[CV] max_depth=11, criterion=gini, max_features=0.6, n_estimators=400, min_samples_leaf=100 \n",
      "[CV]  max_depth=11, criterion=gini, max_features=0.6, n_estimators=400, min_samples_leaf=100, score=0.848486 -  12.0s\n",
      "[Parallel(n_jobs=1)]: Done  57 jobs       | elapsed:  8.2min\n",
      "[CV] max_depth=11, criterion=gini, max_features=0.6, n_estimators=400, min_samples_leaf=100 \n",
      "[CV]  max_depth=11, criterion=gini, max_features=0.6, n_estimators=400, min_samples_leaf=100, score=0.836326 -  11.8s\n",
      "[Parallel(n_jobs=1)]: Done  58 jobs       | elapsed:  8.4min\n",
      "[CV] max_depth=11, criterion=gini, max_features=0.6, n_estimators=400, min_samples_leaf=100 \n",
      "[CV]  max_depth=11, criterion=gini, max_features=0.6, n_estimators=400, min_samples_leaf=100, score=0.829814 -  12.4s\n",
      "[Parallel(n_jobs=1)]: Done  59 jobs       | elapsed:  8.6min\n",
      "[CV] max_depth=11, criterion=gini, max_features=0.6, n_estimators=400, min_samples_leaf=100 \n",
      "[CV]  max_depth=11, criterion=gini, max_features=0.6, n_estimators=400, min_samples_leaf=100, score=0.844176 -  12.6s\n",
      "[Parallel(n_jobs=1)]: Done  60 jobs       | elapsed:  8.8min\n",
      "[CV] max_depth=12, criterion=gini, max_features=0.6, n_estimators=200, min_samples_leaf=100 \n",
      "[CV]  max_depth=12, criterion=gini, max_features=0.6, n_estimators=200, min_samples_leaf=100, score=0.838845 -   6.2s\n",
      "[Parallel(n_jobs=1)]: Done  61 jobs       | elapsed:  8.9min\n",
      "[CV] max_depth=12, criterion=gini, max_features=0.6, n_estimators=200, min_samples_leaf=100 \n",
      "[CV]  max_depth=12, criterion=gini, max_features=0.6, n_estimators=200, min_samples_leaf=100, score=0.840912 -   6.2s\n",
      "[Parallel(n_jobs=1)]: Done  62 jobs       | elapsed:  9.0min\n",
      "[CV] max_depth=12, criterion=gini, max_features=0.6, n_estimators=200, min_samples_leaf=100 \n",
      "[CV]  max_depth=12, criterion=gini, max_features=0.6, n_estimators=200, min_samples_leaf=100, score=0.841054 -   6.2s\n",
      "[Parallel(n_jobs=1)]: Done  63 jobs       | elapsed:  9.1min\n",
      "[CV] max_depth=12, criterion=gini, max_features=0.6, n_estimators=200, min_samples_leaf=100 \n",
      "[CV]  max_depth=12, criterion=gini, max_features=0.6, n_estimators=200, min_samples_leaf=100, score=0.842394 -   6.4s\n",
      "[Parallel(n_jobs=1)]: Done  64 jobs       | elapsed:  9.2min\n",
      "[CV] max_depth=12, criterion=gini, max_features=0.6, n_estimators=200, min_samples_leaf=100 \n",
      "[CV]  max_depth=12, criterion=gini, max_features=0.6, n_estimators=200, min_samples_leaf=100, score=0.843129 -   6.1s\n",
      "[Parallel(n_jobs=1)]: Done  65 jobs       | elapsed:  9.3min\n",
      "[CV] max_depth=12, criterion=gini, max_features=0.6, n_estimators=200, min_samples_leaf=100 \n",
      "[CV]  max_depth=12, criterion=gini, max_features=0.6, n_estimators=200, min_samples_leaf=100, score=0.843733 -   6.3s\n",
      "[Parallel(n_jobs=1)]: Done  66 jobs       | elapsed:  9.4min\n",
      "[CV] max_depth=12, criterion=gini, max_features=0.6, n_estimators=200, min_samples_leaf=100 \n",
      "[CV]  max_depth=12, criterion=gini, max_features=0.6, n_estimators=200, min_samples_leaf=100, score=0.848387 -   6.3s\n",
      "[Parallel(n_jobs=1)]: Done  67 jobs       | elapsed:  9.5min\n",
      "[CV] max_depth=12, criterion=gini, max_features=0.6, n_estimators=200, min_samples_leaf=100 \n",
      "[CV]  max_depth=12, criterion=gini, max_features=0.6, n_estimators=200, min_samples_leaf=100, score=0.835966 -   6.3s\n",
      "[Parallel(n_jobs=1)]: Done  68 jobs       | elapsed:  9.6min\n",
      "[CV] max_depth=12, criterion=gini, max_features=0.6, n_estimators=200, min_samples_leaf=100 \n",
      "[CV]  max_depth=12, criterion=gini, max_features=0.6, n_estimators=200, min_samples_leaf=100, score=0.829380 -   6.2s\n",
      "[Parallel(n_jobs=1)]: Done  69 jobs       | elapsed:  9.8min\n",
      "[CV] max_depth=12, criterion=gini, max_features=0.6, n_estimators=200, min_samples_leaf=100 \n",
      "[CV]  max_depth=12, criterion=gini, max_features=0.6, n_estimators=200, min_samples_leaf=100, score=0.843701 -   6.2s\n",
      "[Parallel(n_jobs=1)]: Done  70 jobs       | elapsed:  9.9min\n",
      "[CV] max_depth=12, criterion=gini, max_features=0.6, n_estimators=300, min_samples_leaf=100 \n",
      "[CV]  max_depth=12, criterion=gini, max_features=0.6, n_estimators=300, min_samples_leaf=100, score=0.838745 -   9.2s\n",
      "[Parallel(n_jobs=1)]: Done  71 jobs       | elapsed: 10.0min\n",
      "[CV] max_depth=12, criterion=gini, max_features=0.6, n_estimators=300, min_samples_leaf=100 \n",
      "[CV]  max_depth=12, criterion=gini, max_features=0.6, n_estimators=300, min_samples_leaf=100, score=0.841067 -   9.7s\n",
      "[Parallel(n_jobs=1)]: Done  72 jobs       | elapsed: 10.2min\n",
      "[CV] max_depth=12, criterion=gini, max_features=0.6, n_estimators=300, min_samples_leaf=100 \n",
      "[CV]  max_depth=12, criterion=gini, max_features=0.6, n_estimators=300, min_samples_leaf=100, score=0.841496 -   9.4s\n",
      "[Parallel(n_jobs=1)]: Done  73 jobs       | elapsed: 10.3min\n",
      "[CV] max_depth=12, criterion=gini, max_features=0.6, n_estimators=300, min_samples_leaf=100 \n",
      "[CV]  max_depth=12, criterion=gini, max_features=0.6, n_estimators=300, min_samples_leaf=100, score=0.842430 -   9.4s\n",
      "[Parallel(n_jobs=1)]: Done  74 jobs       | elapsed: 10.5min\n",
      "[CV] max_depth=12, criterion=gini, max_features=0.6, n_estimators=300, min_samples_leaf=100 \n",
      "[CV]  max_depth=12, criterion=gini, max_features=0.6, n_estimators=300, min_samples_leaf=100, score=0.843129 -   9.4s\n",
      "[Parallel(n_jobs=1)]: Done  75 jobs       | elapsed: 10.7min\n",
      "[CV] max_depth=12, criterion=gini, max_features=0.6, n_estimators=300, min_samples_leaf=100 \n",
      "[CV]  max_depth=12, criterion=gini, max_features=0.6, n_estimators=300, min_samples_leaf=100, score=0.843850 -   9.6s\n",
      "[Parallel(n_jobs=1)]: Done  76 jobs       | elapsed: 10.8min\n",
      "[CV] max_depth=12, criterion=gini, max_features=0.6, n_estimators=300, min_samples_leaf=100 \n",
      "[CV]  max_depth=12, criterion=gini, max_features=0.6, n_estimators=300, min_samples_leaf=100, score=0.848297 -   9.2s\n",
      "[Parallel(n_jobs=1)]: Done  77 jobs       | elapsed: 11.0min\n",
      "[CV] max_depth=12, criterion=gini, max_features=0.6, n_estimators=300, min_samples_leaf=100 \n",
      "[CV]  max_depth=12, criterion=gini, max_features=0.6, n_estimators=300, min_samples_leaf=100, score=0.836139 -   9.2s\n",
      "[Parallel(n_jobs=1)]: Done  78 jobs       | elapsed: 11.1min\n",
      "[CV] max_depth=12, criterion=gini, max_features=0.6, n_estimators=300, min_samples_leaf=100 \n",
      "[CV]  max_depth=12, criterion=gini, max_features=0.6, n_estimators=300, min_samples_leaf=100, score=0.829457 -   9.4s\n",
      "[Parallel(n_jobs=1)]: Done  79 jobs       | elapsed: 11.3min\n",
      "[CV] max_depth=12, criterion=gini, max_features=0.6, n_estimators=300, min_samples_leaf=100 \n",
      "[CV]  max_depth=12, criterion=gini, max_features=0.6, n_estimators=300, min_samples_leaf=100, score=0.843791 -   9.2s\n",
      "[Parallel(n_jobs=1)]: Done  80 jobs       | elapsed: 11.4min\n",
      "[CV] max_depth=12, criterion=gini, max_features=0.6, n_estimators=400, min_samples_leaf=100 \n",
      "[CV]  max_depth=12, criterion=gini, max_features=0.6, n_estimators=400, min_samples_leaf=100, score=0.838929 -  12.4s\n",
      "[Parallel(n_jobs=1)]: Done  81 jobs       | elapsed: 11.7min\n",
      "[CV] max_depth=12, criterion=gini, max_features=0.6, n_estimators=400, min_samples_leaf=100 \n",
      "[CV]  max_depth=12, criterion=gini, max_features=0.6, n_estimators=400, min_samples_leaf=100, score=0.841086 -  12.3s\n",
      "[Parallel(n_jobs=1)]: Done  82 jobs       | elapsed: 11.9min\n",
      "[CV] max_depth=12, criterion=gini, max_features=0.6, n_estimators=400, min_samples_leaf=100 \n",
      "[CV]  max_depth=12, criterion=gini, max_features=0.6, n_estimators=400, min_samples_leaf=100, score=0.841478 -  12.3s\n",
      "[Parallel(n_jobs=1)]: Done  83 jobs       | elapsed: 12.1min\n",
      "[CV] max_depth=12, criterion=gini, max_features=0.6, n_estimators=400, min_samples_leaf=100 \n",
      "[CV]  max_depth=12, criterion=gini, max_features=0.6, n_estimators=400, min_samples_leaf=100, score=0.842339 -  12.5s\n",
      "[Parallel(n_jobs=1)]: Done  84 jobs       | elapsed: 12.3min\n",
      "[CV] max_depth=12, criterion=gini, max_features=0.6, n_estimators=400, min_samples_leaf=100 \n",
      "[CV]  max_depth=12, criterion=gini, max_features=0.6, n_estimators=400, min_samples_leaf=100, score=0.843209 -  12.2s\n",
      "[Parallel(n_jobs=1)]: Done  85 jobs       | elapsed: 12.5min\n",
      "[CV] max_depth=12, criterion=gini, max_features=0.6, n_estimators=400, min_samples_leaf=100 \n",
      "[CV]  max_depth=12, criterion=gini, max_features=0.6, n_estimators=400, min_samples_leaf=100, score=0.843687 -  12.6s\n",
      "[Parallel(n_jobs=1)]: Done  86 jobs       | elapsed: 12.7min\n",
      "[CV] max_depth=12, criterion=gini, max_features=0.6, n_estimators=400, min_samples_leaf=100 \n",
      "[CV]  max_depth=12, criterion=gini, max_features=0.6, n_estimators=400, min_samples_leaf=100, score=0.848272 -  12.4s\n",
      "[Parallel(n_jobs=1)]: Done  87 jobs       | elapsed: 12.9min\n",
      "[CV] max_depth=12, criterion=gini, max_features=0.6, n_estimators=400, min_samples_leaf=100 \n",
      "[CV]  max_depth=12, criterion=gini, max_features=0.6, n_estimators=400, min_samples_leaf=100, score=0.836094 -  12.6s\n",
      "[Parallel(n_jobs=1)]: Done  88 jobs       | elapsed: 13.1min\n",
      "[CV] max_depth=12, criterion=gini, max_features=0.6, n_estimators=400, min_samples_leaf=100 \n",
      "[CV]  max_depth=12, criterion=gini, max_features=0.6, n_estimators=400, min_samples_leaf=100, score=0.829446 -  12.4s\n",
      "[Parallel(n_jobs=1)]: Done  89 jobs       | elapsed: 13.3min\n",
      "[CV] max_depth=12, criterion=gini, max_features=0.6, n_estimators=400, min_samples_leaf=100 \n",
      "[CV]  max_depth=12, criterion=gini, max_features=0.6, n_estimators=400, min_samples_leaf=100, score=0.843793 -  12.5s\n",
      "[Parallel(n_jobs=1)]: Done  90 jobs       | elapsed: 13.5min\n",
      "[Parallel(n_jobs=1)]: Done  90 out of  90 | elapsed: 13.5min finished\n",
      "0.841271089478\n"
     ]
    }
   ],
   "source": [
    "GS2.fit(dev,dv)\n",
    "print(GS2.best_score_)"
   ]
  },
  {
   "cell_type": "code",
   "execution_count": 98,
   "metadata": {},
   "outputs": [
    {
     "name": "stdout",
     "output_type": "stream",
     "text": [
      "{'max_depth': 10, 'criterion': 'gini', 'max_features': 0.6, 'n_estimators': 300, 'min_samples_leaf': 100}\n"
     ]
    }
   ],
   "source": [
    "print(GS2.best_params_)"
   ]
  },
  {
   "cell_type": "markdown",
   "metadata": {},
   "source": [
    "#### predictions"
   ]
  },
  {
   "cell_type": "code",
   "execution_count": 180,
   "metadata": {},
   "outputs": [],
   "source": [
    "test=pandas.read_csv('test_66516Ee.csv')"
   ]
  },
  {
   "cell_type": "code",
   "execution_count": 181,
   "metadata": {
    "collapsed": true
   },
   "outputs": [],
   "source": [
    "nulls=test.isnull().any()\n",
    "nulls=nulls[nulls].index.tolist()"
   ]
  },
  {
   "cell_type": "code",
   "execution_count": 182,
   "metadata": {
    "collapsed": true
   },
   "outputs": [],
   "source": [
    "for x in nulls:\n",
    "    test.loc[test.loc[:,x].isnull(),x]=test.loc[:,nulls].median()[x]"
   ]
  },
  {
   "cell_type": "code",
   "execution_count": 183,
   "metadata": {},
   "outputs": [
    {
     "data": {
      "text/plain": [
       "{'A', 'B', 'C', 'D', 'E'}"
      ]
     },
     "execution_count": 183,
     "metadata": {},
     "output_type": "execute_result"
    }
   ],
   "source": [
    "set(test.sourcing_channel)"
   ]
  },
  {
   "cell_type": "code",
   "execution_count": 184,
   "metadata": {
    "collapsed": true
   },
   "outputs": [],
   "source": [
    "test=test.assign(sourcing_channel_cat=test.sourcing_channel.astype('category').cat.codes)"
   ]
  },
  {
   "cell_type": "code",
   "execution_count": 185,
   "metadata": {},
   "outputs": [
    {
     "data": {
      "text/plain": [
       "{'Rural', 'Urban'}"
      ]
     },
     "execution_count": 185,
     "metadata": {},
     "output_type": "execute_result"
    }
   ],
   "source": [
    "set(test.residence_area_type)"
   ]
  },
  {
   "cell_type": "code",
   "execution_count": 186,
   "metadata": {
    "collapsed": true
   },
   "outputs": [],
   "source": [
    "test=test.assign(residence_area_type_cat=test.residence_area_type.astype('category').cat.codes)"
   ]
  },
  {
   "cell_type": "code",
   "execution_count": 187,
   "metadata": {
    "collapsed": true
   },
   "outputs": [],
   "source": [
    "test2=test.loc[:,~(test.columns.isin(['id','sourcing_channel','residence_area_type','renewal']))]"
   ]
  },
  {
   "cell_type": "code",
   "execution_count": 189,
   "metadata": {},
   "outputs": [],
   "source": [
    "scores=pandas.Series(GS.predict_proba(test2)[:,1],index=test.index)"
   ]
  },
  {
   "cell_type": "code",
   "execution_count": 190,
   "metadata": {
    "collapsed": true
   },
   "outputs": [],
   "source": [
    "scores2=pandas.Series(GS2.predict_proba(test2)[:,1],index=test.index)"
   ]
  },
  {
   "cell_type": "markdown",
   "metadata": {},
   "source": [
    "## optimization"
   ]
  },
  {
   "cell_type": "code",
   "execution_count": 329,
   "metadata": {},
   "outputs": [],
   "source": [
    "incentive=pandas.Series(1650,index=test.index,dtype='float64')"
   ]
  },
  {
   "cell_type": "code",
   "execution_count": 164,
   "metadata": {
    "collapsed": true
   },
   "outputs": [],
   "source": [
    "def revenue(p,premium,incentive):\n",
    "    effort=10*(1-numpy.exp(-incentive/400))\n",
    "    improvement=20*(1-numpy.exp(-effort/5))\n",
    "    revenue=sum(p*(1+improvement)*premium-incentive)\n",
    "    return revenue"
   ]
  },
  {
   "cell_type": "code",
   "execution_count": 331,
   "metadata": {},
   "outputs": [
    {
     "data": {
      "text/plain": [
       "6326003849.0517197"
      ]
     },
     "execution_count": 331,
     "metadata": {},
     "output_type": "execute_result"
    }
   ],
   "source": [
    "revenue(scores2,test.premium.astype('float64'),incentive)"
   ]
  },
  {
   "cell_type": "code",
   "execution_count": 332,
   "metadata": {
    "collapsed": true
   },
   "outputs": [],
   "source": [
    "def del_f(p,premium,x):\n",
    "    #i=20*(1-numpy.exp(-10*(1-numpy.exp(-x/400))/5))\n",
    "    del_i=-20*numpy.exp(-10*(1-numpy.exp(-x/400))/5)\n",
    "    del_i*=(10*numpy.exp(-x/400)/5)\n",
    "    del_i*=(-1/400)\n",
    "    del_fx=p*del_i*premium-1\n",
    "    return del_fx"
   ]
  },
  {
   "cell_type": "code",
   "execution_count": 333,
   "metadata": {
    "collapsed": true
   },
   "outputs": [],
   "source": [
    "def del2_f(p,premium,x):\n",
    "    #del_i=numpy.exp(-2*(1-numpy.exp(-x/400))-(x/400))/10\n",
    "    del2_i=(numpy.exp(-2*(1-numpy.exp(-x/400))-(x/400))/10)\n",
    "    del2_i*=(2*numpy.exp(-x/400)*(-1/400)-(1/400))\n",
    "    del2_fx=p*del2_i*premium\n",
    "    return del2_fx"
   ]
  },
  {
   "cell_type": "code",
   "execution_count": 334,
   "metadata": {},
   "outputs": [],
   "source": [
    "def newtonRaphson(f,del_f,p,premium,x0,eps,nmax):\n",
    "    n=1\n",
    "    while(((numpy.abs(f(p,premium,x0))>eps) and (n<=nmax))):\n",
    "        x0-=f(p,premium,x0)/del_f(p,premium,x0)\n",
    "        n+=1\n",
    "    return x0"
   ]
  },
  {
   "cell_type": "code",
   "execution_count": 339,
   "metadata": {},
   "outputs": [],
   "source": [
    "incentive2=pandas.Series(incentive.index,index=incentive.index).apply(lambda x: newtonRaphson(del_f,del2_f,scores2[x],test.premium[x].astype('float64'),\n",
    "                                                                                              incentive[x],0.01,10))"
   ]
  },
  {
   "cell_type": "code",
   "execution_count": 341,
   "metadata": {},
   "outputs": [],
   "source": [
    "incentive2[incentive2<0]=numpy.nan"
   ]
  },
  {
   "cell_type": "code",
   "execution_count": 342,
   "metadata": {
    "collapsed": true
   },
   "outputs": [],
   "source": [
    "incentive2[incentive2.isnull()]=incentive2.median()"
   ]
  },
  {
   "cell_type": "code",
   "execution_count": 343,
   "metadata": {},
   "outputs": [
    {
     "data": {
      "text/plain": [
       "6336927484.0482521"
      ]
     },
     "execution_count": 343,
     "metadata": {},
     "output_type": "execute_result"
    }
   ],
   "source": [
    "revenue(scores2,test.premium.astype('float64'),incentive2)"
   ]
  },
  {
   "cell_type": "code",
   "execution_count": 353,
   "metadata": {},
   "outputs": [],
   "source": [
    "test=test.assign(renewal=scores2)"
   ]
  },
  {
   "cell_type": "code",
   "execution_count": 354,
   "metadata": {
    "collapsed": true
   },
   "outputs": [],
   "source": [
    "test=test.assign(incentives=incentive2)"
   ]
  },
  {
   "cell_type": "code",
   "execution_count": 355,
   "metadata": {
    "collapsed": true
   },
   "outputs": [],
   "source": [
    "solution=test.loc[:,[\"id\",\"probability\",\"incentive\"]]"
   ]
  },
  {
   "cell_type": "code",
   "execution_count": 358,
   "metadata": {},
   "outputs": [],
   "source": [
    "solution.to_csv('solution.csv')"
   ]
  },
  {
   "cell_type": "code",
   "execution_count": null,
   "metadata": {},
   "outputs": [],
   "source": []
  },
  {
   "cell_type": "code",
   "execution_count": null,
   "metadata": {},
   "outputs": [],
   "source": []
  }
 ],
 "metadata": {
  "kernelspec": {
   "display_name": "Python 3",
   "language": "python",
   "name": "python3"
  },
  "language_info": {
   "codemirror_mode": {
    "name": "ipython",
    "version": 3
   },
   "file_extension": ".py",
   "mimetype": "text/x-python",
   "name": "python",
   "nbconvert_exporter": "python",
   "pygments_lexer": "ipython3",
   "version": "3.4.3"
  }
 },
 "nbformat": 4,
 "nbformat_minor": 1
}
